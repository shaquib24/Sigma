{
  "nbformat": 4,
  "nbformat_minor": 0,
  "metadata": {
    "colab": {
      "name": "EDA on ODI data(sachin vs kohli).ipynb",
      "provenance": [],
      "authorship_tag": "ABX9TyOE98pXtc/uN+Wg2P3fGfkY",
      "include_colab_link": true
    },
    "kernelspec": {
      "name": "python3",
      "display_name": "Python 3"
    },
    "language_info": {
      "name": "python"
    }
  },
  "cells": [
    {
      "cell_type": "markdown",
      "metadata": {
        "id": "view-in-github",
        "colab_type": "text"
      },
      "source": [
        "<a href=\"https://colab.research.google.com/github/shaquib24/Sigma/blob/main/EDA_on_ODI_data(sachin_vs_kohli).ipynb\" target=\"_parent\"><img src=\"https://colab.research.google.com/assets/colab-badge.svg\" alt=\"Open In Colab\"/></a>"
      ]
    },
    {
      "cell_type": "code",
      "metadata": {
        "id": "A9YPgW2z05i8"
      },
      "source": [
        "import warnings\n",
        "warnings.filterwarnings(\"ignore\")"
      ],
      "execution_count": null,
      "outputs": []
    },
    {
      "cell_type": "code",
      "metadata": {
        "id": "3C1o6ua-1DDo"
      },
      "source": [
        "import pandas as pd\n",
        "import numpy as np\n",
        "import matplotlib.pyplot as plt\n",
        "import seaborn as sns"
      ],
      "execution_count": null,
      "outputs": []
    },
    {
      "cell_type": "markdown",
      "metadata": {
        "id": "X388MNImPZ5O"
      },
      "source": [
        "**Reading main data**"
      ]
    },
    {
      "cell_type": "code",
      "metadata": {
        "id": "2Q3w9imx1rI0"
      },
      "source": [
        "df=pd.read_csv(\"ODI_data.csv\")"
      ],
      "execution_count": null,
      "outputs": []
    },
    {
      "cell_type": "code",
      "metadata": {
        "colab": {
          "base_uri": "https://localhost:8080/",
          "height": 696
        },
        "id": "MdL4KS-LUEEx",
        "outputId": "19471cf2-84f1-4d06-e0bc-19a01c840588"
      },
      "source": [
        "df.head(12)"
      ],
      "execution_count": null,
      "outputs": [
        {
          "output_type": "execute_result",
          "data": {
            "text/html": [
              "<div>\n",
              "<style scoped>\n",
              "    .dataframe tbody tr th:only-of-type {\n",
              "        vertical-align: middle;\n",
              "    }\n",
              "\n",
              "    .dataframe tbody tr th {\n",
              "        vertical-align: top;\n",
              "    }\n",
              "\n",
              "    .dataframe thead th {\n",
              "        text-align: right;\n",
              "    }\n",
              "</style>\n",
              "<table border=\"1\" class=\"dataframe\">\n",
              "  <thead>\n",
              "    <tr style=\"text-align: right;\">\n",
              "      <th></th>\n",
              "      <th>Innings Player</th>\n",
              "      <th>Innings Runs Scored</th>\n",
              "      <th>Innings Runs Scored Num</th>\n",
              "      <th>Innings Minutes Batted</th>\n",
              "      <th>Innings Batted Flag</th>\n",
              "      <th>Innings Not Out Flag</th>\n",
              "      <th>Innings Balls Faced</th>\n",
              "      <th>Innings Boundary Fours</th>\n",
              "      <th>Innings Boundary Sixes</th>\n",
              "      <th>Innings Batting Strike Rate</th>\n",
              "      <th>Innings Number</th>\n",
              "      <th>Opposition</th>\n",
              "      <th>Ground</th>\n",
              "      <th>Innings Date</th>\n",
              "      <th>Country</th>\n",
              "      <th>50's</th>\n",
              "      <th>100's</th>\n",
              "      <th>Innings Runs Scored Buckets</th>\n",
              "      <th>Innings Overs Bowled</th>\n",
              "      <th>Innings Bowled Flag</th>\n",
              "      <th>Innings Maidens Bowled</th>\n",
              "      <th>Innings Runs Conceded</th>\n",
              "      <th>Innings Wickets Taken</th>\n",
              "      <th>4 Wickets</th>\n",
              "      <th>5 Wickets</th>\n",
              "      <th>10 Wickets</th>\n",
              "      <th>Innings Wickets Taken Buckets</th>\n",
              "      <th>Innings Economy Rate</th>\n",
              "    </tr>\n",
              "  </thead>\n",
              "  <tbody>\n",
              "    <tr>\n",
              "      <th>0</th>\n",
              "      <td>E Lewis</td>\n",
              "      <td>65</td>\n",
              "      <td>65</td>\n",
              "      <td>128</td>\n",
              "      <td>1.0</td>\n",
              "      <td>0.0</td>\n",
              "      <td>80</td>\n",
              "      <td>8</td>\n",
              "      <td>1</td>\n",
              "      <td>81.25</td>\n",
              "      <td>2</td>\n",
              "      <td>v India</td>\n",
              "      <td>Port of Spain</td>\n",
              "      <td>11-08-2019</td>\n",
              "      <td>West Indies</td>\n",
              "      <td>1.0</td>\n",
              "      <td>0.0</td>\n",
              "      <td>50-99</td>\n",
              "      <td>NaN</td>\n",
              "      <td>NaN</td>\n",
              "      <td>NaN</td>\n",
              "      <td>NaN</td>\n",
              "      <td>NaN</td>\n",
              "      <td>NaN</td>\n",
              "      <td>NaN</td>\n",
              "      <td>NaN</td>\n",
              "      <td>NaN</td>\n",
              "      <td>NaN</td>\n",
              "    </tr>\n",
              "    <tr>\n",
              "      <th>1</th>\n",
              "      <td>N Pooran</td>\n",
              "      <td>42</td>\n",
              "      <td>42</td>\n",
              "      <td>69</td>\n",
              "      <td>1.0</td>\n",
              "      <td>0.0</td>\n",
              "      <td>52</td>\n",
              "      <td>4</td>\n",
              "      <td>1</td>\n",
              "      <td>80.76</td>\n",
              "      <td>2</td>\n",
              "      <td>v India</td>\n",
              "      <td>Port of Spain</td>\n",
              "      <td>11-08-2019</td>\n",
              "      <td>West Indies</td>\n",
              "      <td>0.0</td>\n",
              "      <td>0.0</td>\n",
              "      <td>0-49</td>\n",
              "      <td>NaN</td>\n",
              "      <td>NaN</td>\n",
              "      <td>NaN</td>\n",
              "      <td>NaN</td>\n",
              "      <td>NaN</td>\n",
              "      <td>NaN</td>\n",
              "      <td>NaN</td>\n",
              "      <td>NaN</td>\n",
              "      <td>NaN</td>\n",
              "      <td>NaN</td>\n",
              "    </tr>\n",
              "    <tr>\n",
              "      <th>2</th>\n",
              "      <td>SO Hetmyer</td>\n",
              "      <td>18</td>\n",
              "      <td>18</td>\n",
              "      <td>31</td>\n",
              "      <td>1.0</td>\n",
              "      <td>0.0</td>\n",
              "      <td>20</td>\n",
              "      <td>2</td>\n",
              "      <td>0</td>\n",
              "      <td>90</td>\n",
              "      <td>2</td>\n",
              "      <td>v India</td>\n",
              "      <td>Port of Spain</td>\n",
              "      <td>11-08-2019</td>\n",
              "      <td>West Indies</td>\n",
              "      <td>0.0</td>\n",
              "      <td>0.0</td>\n",
              "      <td>0-49</td>\n",
              "      <td>NaN</td>\n",
              "      <td>NaN</td>\n",
              "      <td>NaN</td>\n",
              "      <td>NaN</td>\n",
              "      <td>NaN</td>\n",
              "      <td>NaN</td>\n",
              "      <td>NaN</td>\n",
              "      <td>NaN</td>\n",
              "      <td>NaN</td>\n",
              "      <td>NaN</td>\n",
              "    </tr>\n",
              "    <tr>\n",
              "      <th>3</th>\n",
              "      <td>RL Chase</td>\n",
              "      <td>18</td>\n",
              "      <td>18</td>\n",
              "      <td>34</td>\n",
              "      <td>1.0</td>\n",
              "      <td>0.0</td>\n",
              "      <td>23</td>\n",
              "      <td>0</td>\n",
              "      <td>0</td>\n",
              "      <td>78.26</td>\n",
              "      <td>2</td>\n",
              "      <td>v India</td>\n",
              "      <td>Port of Spain</td>\n",
              "      <td>11-08-2019</td>\n",
              "      <td>West Indies</td>\n",
              "      <td>0.0</td>\n",
              "      <td>0.0</td>\n",
              "      <td>0-49</td>\n",
              "      <td>NaN</td>\n",
              "      <td>NaN</td>\n",
              "      <td>NaN</td>\n",
              "      <td>NaN</td>\n",
              "      <td>NaN</td>\n",
              "      <td>NaN</td>\n",
              "      <td>NaN</td>\n",
              "      <td>NaN</td>\n",
              "      <td>NaN</td>\n",
              "      <td>NaN</td>\n",
              "    </tr>\n",
              "    <tr>\n",
              "      <th>4</th>\n",
              "      <td>SS Cottrell</td>\n",
              "      <td>17</td>\n",
              "      <td>17</td>\n",
              "      <td>23</td>\n",
              "      <td>1.0</td>\n",
              "      <td>0.0</td>\n",
              "      <td>18</td>\n",
              "      <td>2</td>\n",
              "      <td>1</td>\n",
              "      <td>94.44</td>\n",
              "      <td>2</td>\n",
              "      <td>v India</td>\n",
              "      <td>Port of Spain</td>\n",
              "      <td>11-08-2019</td>\n",
              "      <td>West Indies</td>\n",
              "      <td>0.0</td>\n",
              "      <td>0.0</td>\n",
              "      <td>0-49</td>\n",
              "      <td>NaN</td>\n",
              "      <td>NaN</td>\n",
              "      <td>NaN</td>\n",
              "      <td>NaN</td>\n",
              "      <td>NaN</td>\n",
              "      <td>NaN</td>\n",
              "      <td>NaN</td>\n",
              "      <td>NaN</td>\n",
              "      <td>NaN</td>\n",
              "      <td>NaN</td>\n",
              "    </tr>\n",
              "    <tr>\n",
              "      <th>5</th>\n",
              "      <td>JO Holder</td>\n",
              "      <td>13*</td>\n",
              "      <td>13</td>\n",
              "      <td>38</td>\n",
              "      <td>1.0</td>\n",
              "      <td>1.0</td>\n",
              "      <td>19</td>\n",
              "      <td>0</td>\n",
              "      <td>0</td>\n",
              "      <td>68.42</td>\n",
              "      <td>2</td>\n",
              "      <td>v India</td>\n",
              "      <td>Port of Spain</td>\n",
              "      <td>11-08-2019</td>\n",
              "      <td>West Indies</td>\n",
              "      <td>0.0</td>\n",
              "      <td>0.0</td>\n",
              "      <td>0-49</td>\n",
              "      <td>NaN</td>\n",
              "      <td>NaN</td>\n",
              "      <td>NaN</td>\n",
              "      <td>NaN</td>\n",
              "      <td>NaN</td>\n",
              "      <td>NaN</td>\n",
              "      <td>NaN</td>\n",
              "      <td>NaN</td>\n",
              "      <td>NaN</td>\n",
              "      <td>NaN</td>\n",
              "    </tr>\n",
              "    <tr>\n",
              "      <th>6</th>\n",
              "      <td>CH Gayle</td>\n",
              "      <td>11</td>\n",
              "      <td>11</td>\n",
              "      <td>49</td>\n",
              "      <td>1.0</td>\n",
              "      <td>0.0</td>\n",
              "      <td>24</td>\n",
              "      <td>1</td>\n",
              "      <td>0</td>\n",
              "      <td>45.83</td>\n",
              "      <td>2</td>\n",
              "      <td>v India</td>\n",
              "      <td>Port of Spain</td>\n",
              "      <td>11-08-2019</td>\n",
              "      <td>West Indies</td>\n",
              "      <td>0.0</td>\n",
              "      <td>0.0</td>\n",
              "      <td>0-49</td>\n",
              "      <td>NaN</td>\n",
              "      <td>NaN</td>\n",
              "      <td>NaN</td>\n",
              "      <td>NaN</td>\n",
              "      <td>NaN</td>\n",
              "      <td>NaN</td>\n",
              "      <td>NaN</td>\n",
              "      <td>NaN</td>\n",
              "      <td>NaN</td>\n",
              "      <td>NaN</td>\n",
              "    </tr>\n",
              "    <tr>\n",
              "      <th>7</th>\n",
              "      <td>SD Hope</td>\n",
              "      <td>5</td>\n",
              "      <td>5</td>\n",
              "      <td>14</td>\n",
              "      <td>1.0</td>\n",
              "      <td>0.0</td>\n",
              "      <td>10</td>\n",
              "      <td>0</td>\n",
              "      <td>0</td>\n",
              "      <td>50</td>\n",
              "      <td>2</td>\n",
              "      <td>v India</td>\n",
              "      <td>Port of Spain</td>\n",
              "      <td>11-08-2019</td>\n",
              "      <td>West Indies</td>\n",
              "      <td>0.0</td>\n",
              "      <td>0.0</td>\n",
              "      <td>0-49</td>\n",
              "      <td>NaN</td>\n",
              "      <td>NaN</td>\n",
              "      <td>NaN</td>\n",
              "      <td>NaN</td>\n",
              "      <td>NaN</td>\n",
              "      <td>NaN</td>\n",
              "      <td>NaN</td>\n",
              "      <td>NaN</td>\n",
              "      <td>NaN</td>\n",
              "      <td>NaN</td>\n",
              "    </tr>\n",
              "    <tr>\n",
              "      <th>8</th>\n",
              "      <td>CR Brathwaite</td>\n",
              "      <td>0</td>\n",
              "      <td>0</td>\n",
              "      <td>5</td>\n",
              "      <td>1.0</td>\n",
              "      <td>0.0</td>\n",
              "      <td>3</td>\n",
              "      <td>0</td>\n",
              "      <td>0</td>\n",
              "      <td>0</td>\n",
              "      <td>2</td>\n",
              "      <td>v India</td>\n",
              "      <td>Port of Spain</td>\n",
              "      <td>11-08-2019</td>\n",
              "      <td>West Indies</td>\n",
              "      <td>0.0</td>\n",
              "      <td>0.0</td>\n",
              "      <td>0-49</td>\n",
              "      <td>NaN</td>\n",
              "      <td>NaN</td>\n",
              "      <td>NaN</td>\n",
              "      <td>NaN</td>\n",
              "      <td>NaN</td>\n",
              "      <td>NaN</td>\n",
              "      <td>NaN</td>\n",
              "      <td>NaN</td>\n",
              "      <td>NaN</td>\n",
              "      <td>NaN</td>\n",
              "    </tr>\n",
              "    <tr>\n",
              "      <th>9</th>\n",
              "      <td>KAJ Roach</td>\n",
              "      <td>0</td>\n",
              "      <td>0</td>\n",
              "      <td>5</td>\n",
              "      <td>1.0</td>\n",
              "      <td>0.0</td>\n",
              "      <td>3</td>\n",
              "      <td>0</td>\n",
              "      <td>0</td>\n",
              "      <td>0</td>\n",
              "      <td>2</td>\n",
              "      <td>v India</td>\n",
              "      <td>Port of Spain</td>\n",
              "      <td>11-08-2019</td>\n",
              "      <td>West Indies</td>\n",
              "      <td>0.0</td>\n",
              "      <td>0.0</td>\n",
              "      <td>0-49</td>\n",
              "      <td>NaN</td>\n",
              "      <td>NaN</td>\n",
              "      <td>NaN</td>\n",
              "      <td>NaN</td>\n",
              "      <td>NaN</td>\n",
              "      <td>NaN</td>\n",
              "      <td>NaN</td>\n",
              "      <td>NaN</td>\n",
              "      <td>NaN</td>\n",
              "      <td>NaN</td>\n",
              "    </tr>\n",
              "    <tr>\n",
              "      <th>10</th>\n",
              "      <td>O Thomas</td>\n",
              "      <td>0</td>\n",
              "      <td>0</td>\n",
              "      <td>4</td>\n",
              "      <td>1.0</td>\n",
              "      <td>0.0</td>\n",
              "      <td>1</td>\n",
              "      <td>0</td>\n",
              "      <td>0</td>\n",
              "      <td>0</td>\n",
              "      <td>2</td>\n",
              "      <td>v India</td>\n",
              "      <td>Port of Spain</td>\n",
              "      <td>11-08-2019</td>\n",
              "      <td>West Indies</td>\n",
              "      <td>0.0</td>\n",
              "      <td>0.0</td>\n",
              "      <td>0-49</td>\n",
              "      <td>NaN</td>\n",
              "      <td>NaN</td>\n",
              "      <td>NaN</td>\n",
              "      <td>NaN</td>\n",
              "      <td>NaN</td>\n",
              "      <td>NaN</td>\n",
              "      <td>NaN</td>\n",
              "      <td>NaN</td>\n",
              "      <td>NaN</td>\n",
              "      <td>NaN</td>\n",
              "    </tr>\n",
              "    <tr>\n",
              "      <th>11</th>\n",
              "      <td>V Kohli</td>\n",
              "      <td>120</td>\n",
              "      <td>120</td>\n",
              "      <td>179</td>\n",
              "      <td>1.0</td>\n",
              "      <td>0.0</td>\n",
              "      <td>125</td>\n",
              "      <td>14</td>\n",
              "      <td>1</td>\n",
              "      <td>96</td>\n",
              "      <td>1</td>\n",
              "      <td>v West Indies</td>\n",
              "      <td>Port of Spain</td>\n",
              "      <td>11-08-2019</td>\n",
              "      <td>India</td>\n",
              "      <td>0.0</td>\n",
              "      <td>1.0</td>\n",
              "      <td>100-149</td>\n",
              "      <td>NaN</td>\n",
              "      <td>NaN</td>\n",
              "      <td>NaN</td>\n",
              "      <td>NaN</td>\n",
              "      <td>NaN</td>\n",
              "      <td>NaN</td>\n",
              "      <td>NaN</td>\n",
              "      <td>NaN</td>\n",
              "      <td>NaN</td>\n",
              "      <td>NaN</td>\n",
              "    </tr>\n",
              "  </tbody>\n",
              "</table>\n",
              "</div>"
            ],
            "text/plain": [
              "   Innings Player  ... Innings Economy Rate\n",
              "0         E Lewis  ...                  NaN\n",
              "1        N Pooran  ...                  NaN\n",
              "2      SO Hetmyer  ...                  NaN\n",
              "3        RL Chase  ...                  NaN\n",
              "4     SS Cottrell  ...                  NaN\n",
              "5       JO Holder  ...                  NaN\n",
              "6        CH Gayle  ...                  NaN\n",
              "7         SD Hope  ...                  NaN\n",
              "8   CR Brathwaite  ...                  NaN\n",
              "9       KAJ Roach  ...                  NaN\n",
              "10       O Thomas  ...                  NaN\n",
              "11        V Kohli  ...                  NaN\n",
              "\n",
              "[12 rows x 28 columns]"
            ]
          },
          "metadata": {},
          "execution_count": 175
        }
      ]
    },
    {
      "cell_type": "code",
      "metadata": {
        "colab": {
          "base_uri": "https://localhost:8080/"
        },
        "id": "OBnMvxCWUFM-",
        "outputId": "2fe4b022-0031-497f-a08a-3e50a7fe9e04"
      },
      "source": [
        "df.columns"
      ],
      "execution_count": null,
      "outputs": [
        {
          "output_type": "execute_result",
          "data": {
            "text/plain": [
              "Index(['Innings Player', 'Innings Runs Scored', 'Innings Runs Scored Num',\n",
              "       'Innings Minutes Batted', 'Innings Batted Flag', 'Innings Not Out Flag',\n",
              "       'Innings Balls Faced', 'Innings Boundary Fours',\n",
              "       'Innings Boundary Sixes', 'Innings Batting Strike Rate',\n",
              "       'Innings Number', 'Opposition', 'Ground', 'Innings Date', 'Country',\n",
              "       '50's', '100's', 'Innings Runs Scored Buckets', 'Innings Overs Bowled',\n",
              "       'Innings Bowled Flag', 'Innings Maidens Bowled',\n",
              "       'Innings Runs Conceded', 'Innings Wickets Taken', '4 Wickets',\n",
              "       '5 Wickets', '10 Wickets', 'Innings Wickets Taken Buckets',\n",
              "       'Innings Economy Rate'],\n",
              "      dtype='object')"
            ]
          },
          "metadata": {},
          "execution_count": 176
        }
      ]
    },
    {
      "cell_type": "code",
      "metadata": {
        "colab": {
          "base_uri": "https://localhost:8080/"
        },
        "id": "9U2vWqsaV1vV",
        "outputId": "ad7d3eb2-15ff-4677-f1ee-040ab345dd7f"
      },
      "source": [
        "df.info"
      ],
      "execution_count": null,
      "outputs": [
        {
          "output_type": "execute_result",
          "data": {
            "text/plain": [
              "<bound method DataFrame.info of        Innings Player  ... Innings Economy Rate\n",
              "0             E Lewis  ...                  NaN\n",
              "1            N Pooran  ...                  NaN\n",
              "2          SO Hetmyer  ...                  NaN\n",
              "3            RL Chase  ...                  NaN\n",
              "4         SS Cottrell  ...                  NaN\n",
              "...               ...  ...                  ...\n",
              "171963     IR Redpath  ...                    -\n",
              "171964    IM Chappell  ...                    -\n",
              "171965     KD Walters  ...                    -\n",
              "171966       RW Marsh  ...                    -\n",
              "171967    GS Chappell  ...                    -\n",
              "\n",
              "[171968 rows x 28 columns]>"
            ]
          },
          "metadata": {},
          "execution_count": 177
        }
      ]
    },
    {
      "cell_type": "code",
      "metadata": {
        "colab": {
          "base_uri": "https://localhost:8080/"
        },
        "id": "zHkR6-JJUgWh",
        "outputId": "36105637-d34c-49b5-9724-b3837acea701"
      },
      "source": [
        "df.isnull().sum()"
      ],
      "execution_count": null,
      "outputs": [
        {
          "output_type": "execute_result",
          "data": {
            "text/plain": [
              "Innings Player                       0\n",
              "Innings Runs Scored              85984\n",
              "Innings Runs Scored Num          85984\n",
              "Innings Minutes Batted           85984\n",
              "Innings Batted Flag              85984\n",
              "Innings Not Out Flag             85984\n",
              "Innings Balls Faced              85984\n",
              "Innings Boundary Fours           85984\n",
              "Innings Boundary Sixes           85984\n",
              "Innings Batting Strike Rate      85984\n",
              "Innings Number                       0\n",
              "Opposition                           0\n",
              "Ground                               0\n",
              "Innings Date                         0\n",
              "Country                              0\n",
              "50's                             85984\n",
              "100's                            85984\n",
              "Innings Runs Scored Buckets      85984\n",
              "Innings Overs Bowled             85984\n",
              "Innings Bowled Flag              85984\n",
              "Innings Maidens Bowled           85984\n",
              "Innings Runs Conceded            85984\n",
              "Innings Wickets Taken            85984\n",
              "4 Wickets                        85984\n",
              "5 Wickets                        85984\n",
              "10 Wickets                       85984\n",
              "Innings Wickets Taken Buckets    85984\n",
              "Innings Economy Rate             85984\n",
              "dtype: int64"
            ]
          },
          "metadata": {},
          "execution_count": 178
        }
      ]
    },
    {
      "cell_type": "code",
      "metadata": {
        "colab": {
          "base_uri": "https://localhost:8080/"
        },
        "id": "QuyQ7sUZVISG",
        "outputId": "77ce0bc6-9b23-4ba3-898a-9adfaa225fb5"
      },
      "source": [
        "df['Innings Runs Scored Num']"
      ],
      "execution_count": null,
      "outputs": [
        {
          "output_type": "execute_result",
          "data": {
            "text/plain": [
              "0          65\n",
              "1          42\n",
              "2          18\n",
              "3          18\n",
              "4          17\n",
              "         ... \n",
              "171963    NaN\n",
              "171964    NaN\n",
              "171965    NaN\n",
              "171966    NaN\n",
              "171967    NaN\n",
              "Name: Innings Runs Scored Num, Length: 171968, dtype: object"
            ]
          },
          "metadata": {},
          "execution_count": 179
        }
      ]
    },
    {
      "cell_type": "code",
      "metadata": {
        "colab": {
          "base_uri": "https://localhost:8080/"
        },
        "id": "wP94DtcnVkzg",
        "outputId": "addd389e-0dda-442e-db36-8eb73f724be5"
      },
      "source": [
        "df.dtypes"
      ],
      "execution_count": null,
      "outputs": [
        {
          "output_type": "execute_result",
          "data": {
            "text/plain": [
              "Innings Player                    object\n",
              "Innings Runs Scored               object\n",
              "Innings Runs Scored Num           object\n",
              "Innings Minutes Batted            object\n",
              "Innings Batted Flag              float64\n",
              "Innings Not Out Flag             float64\n",
              "Innings Balls Faced               object\n",
              "Innings Boundary Fours            object\n",
              "Innings Boundary Sixes            object\n",
              "Innings Batting Strike Rate       object\n",
              "Innings Number                    object\n",
              "Opposition                        object\n",
              "Ground                            object\n",
              "Innings Date                      object\n",
              "Country                           object\n",
              "50's                             float64\n",
              "100's                            float64\n",
              "Innings Runs Scored Buckets       object\n",
              "Innings Overs Bowled              object\n",
              "Innings Bowled Flag              float64\n",
              "Innings Maidens Bowled            object\n",
              "Innings Runs Conceded             object\n",
              "Innings Wickets Taken             object\n",
              "4 Wickets                        float64\n",
              "5 Wickets                        float64\n",
              "10 Wickets                       float64\n",
              "Innings Wickets Taken Buckets     object\n",
              "Innings Economy Rate              object\n",
              "dtype: object"
            ]
          },
          "metadata": {},
          "execution_count": 180
        }
      ]
    },
    {
      "cell_type": "code",
      "metadata": {
        "colab": {
          "base_uri": "https://localhost:8080/"
        },
        "id": "Zq7Vr0eXXWJP",
        "outputId": "ac18af07-be0f-4156-ea50-158038d7c965"
      },
      "source": [
        "df['Innings Runs Scored Num'].unique()"
      ],
      "execution_count": null,
      "outputs": [
        {
          "output_type": "execute_result",
          "data": {
            "text/plain": [
              "array(['65', '42', '18', '17', '13', '11', '5', '0', '120', '71', '20',\n",
              "       '16', '3', '2', '1', '-', nan, '40', '6', '4', '87', '54', '46',\n",
              "       '30', '12', '69', '39', '14', '10', '9', '8', '7', '82', '52',\n",
              "       '41', '15', '98', '43', '19', '111', '48', '36', '25', '67', '60',\n",
              "       '84', '59', '55', '47', '85', '49', '45', '34', '29', '22', '74',\n",
              "       '28', '77', '50', '32', '23', '35', '122', '100', '95', '103',\n",
              "       '113', '53', '96', '27', '64', '58', '33', '31', '73', '56', '86',\n",
              "       '62', '106', '24', '57', '104', '26', '66', '51', '118', '105',\n",
              "       '101', '21', '79', '44', '102', '88', '80', '72', '97', '68', '89',\n",
              "       '38', '83', '63', '148', '166', '90', '76', '37', '70', '124',\n",
              "       '94', '140', '153', '107', '117', '121', '92', '78', '75', '114',\n",
              "       '115', '130', '128', '151', '110', '138', '135', '109', '61',\n",
              "       '179', '170', '112', '116', '91', '143', '93', '123', '145', '81',\n",
              "       '150', '162', '108', '131', '133', '137', '146', '139', '125',\n",
              "       '129', '157', '152', '144', '99', '127', '210', '147', '126',\n",
              "       '181', '160', '180', '208', '176', '168', '141', '132', '119',\n",
              "       '154', '185', '134', '156', '164', '173', '178', '171', '149',\n",
              "       '237', '159', '161', '215', '264', '136', '169', '209', '174',\n",
              "       '189', '183', '163', '219', '158', '175', '177', '200', '194',\n",
              "       '142', '172', '186', '188', '167'], dtype=object)"
            ]
          },
          "metadata": {},
          "execution_count": 181
        }
      ]
    },
    {
      "cell_type": "code",
      "metadata": {
        "id": "KklCHRhzXkaa"
      },
      "source": [
        "df=df[df['Innings Runs Scored Num']!=\"-\"]\n"
      ],
      "execution_count": null,
      "outputs": []
    },
    {
      "cell_type": "code",
      "metadata": {
        "id": "phL3KdKAYFLW"
      },
      "source": [
        "df=df.dropna(subset=['Innings Runs Scored Num'])\n",
        "\n",
        "## Deleting NAN values from rows"
      ],
      "execution_count": null,
      "outputs": []
    },
    {
      "cell_type": "code",
      "metadata": {
        "colab": {
          "base_uri": "https://localhost:8080/",
          "height": 660
        },
        "id": "dplSksY4XwSu",
        "outputId": "fe770a9c-ed89-4f4c-f1d6-27a6f6d32db1"
      },
      "source": [
        "df"
      ],
      "execution_count": null,
      "outputs": [
        {
          "output_type": "execute_result",
          "data": {
            "text/html": [
              "<div>\n",
              "<style scoped>\n",
              "    .dataframe tbody tr th:only-of-type {\n",
              "        vertical-align: middle;\n",
              "    }\n",
              "\n",
              "    .dataframe tbody tr th {\n",
              "        vertical-align: top;\n",
              "    }\n",
              "\n",
              "    .dataframe thead th {\n",
              "        text-align: right;\n",
              "    }\n",
              "</style>\n",
              "<table border=\"1\" class=\"dataframe\">\n",
              "  <thead>\n",
              "    <tr style=\"text-align: right;\">\n",
              "      <th></th>\n",
              "      <th>Innings Player</th>\n",
              "      <th>Innings Runs Scored</th>\n",
              "      <th>Innings Runs Scored Num</th>\n",
              "      <th>Innings Minutes Batted</th>\n",
              "      <th>Innings Batted Flag</th>\n",
              "      <th>Innings Not Out Flag</th>\n",
              "      <th>Innings Balls Faced</th>\n",
              "      <th>Innings Boundary Fours</th>\n",
              "      <th>Innings Boundary Sixes</th>\n",
              "      <th>Innings Batting Strike Rate</th>\n",
              "      <th>Innings Number</th>\n",
              "      <th>Opposition</th>\n",
              "      <th>Ground</th>\n",
              "      <th>Innings Date</th>\n",
              "      <th>Country</th>\n",
              "      <th>50's</th>\n",
              "      <th>100's</th>\n",
              "      <th>Innings Runs Scored Buckets</th>\n",
              "      <th>Innings Overs Bowled</th>\n",
              "      <th>Innings Bowled Flag</th>\n",
              "      <th>Innings Maidens Bowled</th>\n",
              "      <th>Innings Runs Conceded</th>\n",
              "      <th>Innings Wickets Taken</th>\n",
              "      <th>4 Wickets</th>\n",
              "      <th>5 Wickets</th>\n",
              "      <th>10 Wickets</th>\n",
              "      <th>Innings Wickets Taken Buckets</th>\n",
              "      <th>Innings Economy Rate</th>\n",
              "    </tr>\n",
              "  </thead>\n",
              "  <tbody>\n",
              "    <tr>\n",
              "      <th>0</th>\n",
              "      <td>E Lewis</td>\n",
              "      <td>65</td>\n",
              "      <td>65</td>\n",
              "      <td>128</td>\n",
              "      <td>1.0</td>\n",
              "      <td>0.0</td>\n",
              "      <td>80</td>\n",
              "      <td>8</td>\n",
              "      <td>1</td>\n",
              "      <td>81.25</td>\n",
              "      <td>2</td>\n",
              "      <td>v India</td>\n",
              "      <td>Port of Spain</td>\n",
              "      <td>11-08-2019</td>\n",
              "      <td>West Indies</td>\n",
              "      <td>1.0</td>\n",
              "      <td>0.0</td>\n",
              "      <td>50-99</td>\n",
              "      <td>NaN</td>\n",
              "      <td>NaN</td>\n",
              "      <td>NaN</td>\n",
              "      <td>NaN</td>\n",
              "      <td>NaN</td>\n",
              "      <td>NaN</td>\n",
              "      <td>NaN</td>\n",
              "      <td>NaN</td>\n",
              "      <td>NaN</td>\n",
              "      <td>NaN</td>\n",
              "    </tr>\n",
              "    <tr>\n",
              "      <th>1</th>\n",
              "      <td>N Pooran</td>\n",
              "      <td>42</td>\n",
              "      <td>42</td>\n",
              "      <td>69</td>\n",
              "      <td>1.0</td>\n",
              "      <td>0.0</td>\n",
              "      <td>52</td>\n",
              "      <td>4</td>\n",
              "      <td>1</td>\n",
              "      <td>80.76</td>\n",
              "      <td>2</td>\n",
              "      <td>v India</td>\n",
              "      <td>Port of Spain</td>\n",
              "      <td>11-08-2019</td>\n",
              "      <td>West Indies</td>\n",
              "      <td>0.0</td>\n",
              "      <td>0.0</td>\n",
              "      <td>0-49</td>\n",
              "      <td>NaN</td>\n",
              "      <td>NaN</td>\n",
              "      <td>NaN</td>\n",
              "      <td>NaN</td>\n",
              "      <td>NaN</td>\n",
              "      <td>NaN</td>\n",
              "      <td>NaN</td>\n",
              "      <td>NaN</td>\n",
              "      <td>NaN</td>\n",
              "      <td>NaN</td>\n",
              "    </tr>\n",
              "    <tr>\n",
              "      <th>2</th>\n",
              "      <td>SO Hetmyer</td>\n",
              "      <td>18</td>\n",
              "      <td>18</td>\n",
              "      <td>31</td>\n",
              "      <td>1.0</td>\n",
              "      <td>0.0</td>\n",
              "      <td>20</td>\n",
              "      <td>2</td>\n",
              "      <td>0</td>\n",
              "      <td>90</td>\n",
              "      <td>2</td>\n",
              "      <td>v India</td>\n",
              "      <td>Port of Spain</td>\n",
              "      <td>11-08-2019</td>\n",
              "      <td>West Indies</td>\n",
              "      <td>0.0</td>\n",
              "      <td>0.0</td>\n",
              "      <td>0-49</td>\n",
              "      <td>NaN</td>\n",
              "      <td>NaN</td>\n",
              "      <td>NaN</td>\n",
              "      <td>NaN</td>\n",
              "      <td>NaN</td>\n",
              "      <td>NaN</td>\n",
              "      <td>NaN</td>\n",
              "      <td>NaN</td>\n",
              "      <td>NaN</td>\n",
              "      <td>NaN</td>\n",
              "    </tr>\n",
              "    <tr>\n",
              "      <th>3</th>\n",
              "      <td>RL Chase</td>\n",
              "      <td>18</td>\n",
              "      <td>18</td>\n",
              "      <td>34</td>\n",
              "      <td>1.0</td>\n",
              "      <td>0.0</td>\n",
              "      <td>23</td>\n",
              "      <td>0</td>\n",
              "      <td>0</td>\n",
              "      <td>78.26</td>\n",
              "      <td>2</td>\n",
              "      <td>v India</td>\n",
              "      <td>Port of Spain</td>\n",
              "      <td>11-08-2019</td>\n",
              "      <td>West Indies</td>\n",
              "      <td>0.0</td>\n",
              "      <td>0.0</td>\n",
              "      <td>0-49</td>\n",
              "      <td>NaN</td>\n",
              "      <td>NaN</td>\n",
              "      <td>NaN</td>\n",
              "      <td>NaN</td>\n",
              "      <td>NaN</td>\n",
              "      <td>NaN</td>\n",
              "      <td>NaN</td>\n",
              "      <td>NaN</td>\n",
              "      <td>NaN</td>\n",
              "      <td>NaN</td>\n",
              "    </tr>\n",
              "    <tr>\n",
              "      <th>4</th>\n",
              "      <td>SS Cottrell</td>\n",
              "      <td>17</td>\n",
              "      <td>17</td>\n",
              "      <td>23</td>\n",
              "      <td>1.0</td>\n",
              "      <td>0.0</td>\n",
              "      <td>18</td>\n",
              "      <td>2</td>\n",
              "      <td>1</td>\n",
              "      <td>94.44</td>\n",
              "      <td>2</td>\n",
              "      <td>v India</td>\n",
              "      <td>Port of Spain</td>\n",
              "      <td>11-08-2019</td>\n",
              "      <td>West Indies</td>\n",
              "      <td>0.0</td>\n",
              "      <td>0.0</td>\n",
              "      <td>0-49</td>\n",
              "      <td>NaN</td>\n",
              "      <td>NaN</td>\n",
              "      <td>NaN</td>\n",
              "      <td>NaN</td>\n",
              "      <td>NaN</td>\n",
              "      <td>NaN</td>\n",
              "      <td>NaN</td>\n",
              "      <td>NaN</td>\n",
              "      <td>NaN</td>\n",
              "      <td>NaN</td>\n",
              "    </tr>\n",
              "    <tr>\n",
              "      <th>...</th>\n",
              "      <td>...</td>\n",
              "      <td>...</td>\n",
              "      <td>...</td>\n",
              "      <td>...</td>\n",
              "      <td>...</td>\n",
              "      <td>...</td>\n",
              "      <td>...</td>\n",
              "      <td>...</td>\n",
              "      <td>...</td>\n",
              "      <td>...</td>\n",
              "      <td>...</td>\n",
              "      <td>...</td>\n",
              "      <td>...</td>\n",
              "      <td>...</td>\n",
              "      <td>...</td>\n",
              "      <td>...</td>\n",
              "      <td>...</td>\n",
              "      <td>...</td>\n",
              "      <td>...</td>\n",
              "      <td>...</td>\n",
              "      <td>...</td>\n",
              "      <td>...</td>\n",
              "      <td>...</td>\n",
              "      <td>...</td>\n",
              "      <td>...</td>\n",
              "      <td>...</td>\n",
              "      <td>...</td>\n",
              "      <td>...</td>\n",
              "    </tr>\n",
              "    <tr>\n",
              "      <th>171937</th>\n",
              "      <td>WM Lawry</td>\n",
              "      <td>27</td>\n",
              "      <td>27</td>\n",
              "      <td>51</td>\n",
              "      <td>1.0</td>\n",
              "      <td>0.0</td>\n",
              "      <td>49</td>\n",
              "      <td>0</td>\n",
              "      <td>0</td>\n",
              "      <td>55.1</td>\n",
              "      <td>2</td>\n",
              "      <td>v England</td>\n",
              "      <td>Melbourne</td>\n",
              "      <td>05-01-1971</td>\n",
              "      <td>Australia</td>\n",
              "      <td>0.0</td>\n",
              "      <td>0.0</td>\n",
              "      <td>0-49</td>\n",
              "      <td>NaN</td>\n",
              "      <td>NaN</td>\n",
              "      <td>NaN</td>\n",
              "      <td>NaN</td>\n",
              "      <td>NaN</td>\n",
              "      <td>NaN</td>\n",
              "      <td>NaN</td>\n",
              "      <td>NaN</td>\n",
              "      <td>NaN</td>\n",
              "      <td>NaN</td>\n",
              "    </tr>\n",
              "    <tr>\n",
              "      <th>171938</th>\n",
              "      <td>GS Chappell</td>\n",
              "      <td>22*</td>\n",
              "      <td>22</td>\n",
              "      <td>34</td>\n",
              "      <td>1.0</td>\n",
              "      <td>1.0</td>\n",
              "      <td>29</td>\n",
              "      <td>1</td>\n",
              "      <td>0</td>\n",
              "      <td>75.86</td>\n",
              "      <td>2</td>\n",
              "      <td>v England</td>\n",
              "      <td>Melbourne</td>\n",
              "      <td>05-01-1971</td>\n",
              "      <td>Australia</td>\n",
              "      <td>0.0</td>\n",
              "      <td>0.0</td>\n",
              "      <td>0-49</td>\n",
              "      <td>NaN</td>\n",
              "      <td>NaN</td>\n",
              "      <td>NaN</td>\n",
              "      <td>NaN</td>\n",
              "      <td>NaN</td>\n",
              "      <td>NaN</td>\n",
              "      <td>NaN</td>\n",
              "      <td>NaN</td>\n",
              "      <td>NaN</td>\n",
              "      <td>NaN</td>\n",
              "    </tr>\n",
              "    <tr>\n",
              "      <th>171939</th>\n",
              "      <td>KR Stackpole</td>\n",
              "      <td>13</td>\n",
              "      <td>13</td>\n",
              "      <td>20</td>\n",
              "      <td>1.0</td>\n",
              "      <td>0.0</td>\n",
              "      <td>15</td>\n",
              "      <td>2</td>\n",
              "      <td>0</td>\n",
              "      <td>86.66</td>\n",
              "      <td>2</td>\n",
              "      <td>v England</td>\n",
              "      <td>Melbourne</td>\n",
              "      <td>05-01-1971</td>\n",
              "      <td>Australia</td>\n",
              "      <td>0.0</td>\n",
              "      <td>0.0</td>\n",
              "      <td>0-49</td>\n",
              "      <td>NaN</td>\n",
              "      <td>NaN</td>\n",
              "      <td>NaN</td>\n",
              "      <td>NaN</td>\n",
              "      <td>NaN</td>\n",
              "      <td>NaN</td>\n",
              "      <td>NaN</td>\n",
              "      <td>NaN</td>\n",
              "      <td>NaN</td>\n",
              "      <td>NaN</td>\n",
              "    </tr>\n",
              "    <tr>\n",
              "      <th>171940</th>\n",
              "      <td>IR Redpath</td>\n",
              "      <td>12</td>\n",
              "      <td>12</td>\n",
              "      <td>21</td>\n",
              "      <td>1.0</td>\n",
              "      <td>0.0</td>\n",
              "      <td>14</td>\n",
              "      <td>1</td>\n",
              "      <td>0</td>\n",
              "      <td>85.71</td>\n",
              "      <td>2</td>\n",
              "      <td>v England</td>\n",
              "      <td>Melbourne</td>\n",
              "      <td>05-01-1971</td>\n",
              "      <td>Australia</td>\n",
              "      <td>0.0</td>\n",
              "      <td>0.0</td>\n",
              "      <td>0-49</td>\n",
              "      <td>NaN</td>\n",
              "      <td>NaN</td>\n",
              "      <td>NaN</td>\n",
              "      <td>NaN</td>\n",
              "      <td>NaN</td>\n",
              "      <td>NaN</td>\n",
              "      <td>NaN</td>\n",
              "      <td>NaN</td>\n",
              "      <td>NaN</td>\n",
              "      <td>NaN</td>\n",
              "    </tr>\n",
              "    <tr>\n",
              "      <th>171941</th>\n",
              "      <td>RW Marsh</td>\n",
              "      <td>10*</td>\n",
              "      <td>10</td>\n",
              "      <td>24</td>\n",
              "      <td>1.0</td>\n",
              "      <td>1.0</td>\n",
              "      <td>18</td>\n",
              "      <td>2</td>\n",
              "      <td>0</td>\n",
              "      <td>55.55</td>\n",
              "      <td>2</td>\n",
              "      <td>v England</td>\n",
              "      <td>Melbourne</td>\n",
              "      <td>05-01-1971</td>\n",
              "      <td>Australia</td>\n",
              "      <td>0.0</td>\n",
              "      <td>0.0</td>\n",
              "      <td>0-49</td>\n",
              "      <td>NaN</td>\n",
              "      <td>NaN</td>\n",
              "      <td>NaN</td>\n",
              "      <td>NaN</td>\n",
              "      <td>NaN</td>\n",
              "      <td>NaN</td>\n",
              "      <td>NaN</td>\n",
              "      <td>NaN</td>\n",
              "      <td>NaN</td>\n",
              "      <td>NaN</td>\n",
              "    </tr>\n",
              "  </tbody>\n",
              "</table>\n",
              "<p>67595 rows × 28 columns</p>\n",
              "</div>"
            ],
            "text/plain": [
              "       Innings Player  ... Innings Economy Rate\n",
              "0             E Lewis  ...                  NaN\n",
              "1            N Pooran  ...                  NaN\n",
              "2          SO Hetmyer  ...                  NaN\n",
              "3            RL Chase  ...                  NaN\n",
              "4         SS Cottrell  ...                  NaN\n",
              "...               ...  ...                  ...\n",
              "171937       WM Lawry  ...                  NaN\n",
              "171938    GS Chappell  ...                  NaN\n",
              "171939   KR Stackpole  ...                  NaN\n",
              "171940     IR Redpath  ...                  NaN\n",
              "171941       RW Marsh  ...                  NaN\n",
              "\n",
              "[67595 rows x 28 columns]"
            ]
          },
          "metadata": {},
          "execution_count": 184
        }
      ]
    },
    {
      "cell_type": "markdown",
      "metadata": {
        "id": "5IZqof9qP1zM"
      },
      "source": [
        "**Changing data types of ('Innings Runs Scored Num','Innings Balls Faced','Innings Number) columns**"
      ]
    },
    {
      "cell_type": "code",
      "metadata": {
        "id": "0OK9lqdIWH9J"
      },
      "source": [
        "df['Innings Runs Scored Num']=df['Innings Runs Scored Num'].astype(int)"
      ],
      "execution_count": null,
      "outputs": []
    },
    {
      "cell_type": "code",
      "metadata": {
        "id": "2zlP349aaiQJ"
      },
      "source": [
        "df['Innings Balls Faced']=df['Innings Balls Faced'].astype(int)"
      ],
      "execution_count": null,
      "outputs": []
    },
    {
      "cell_type": "code",
      "metadata": {
        "id": "mSTSoZ1Mb8L3"
      },
      "source": [
        "df['Innings Number']=df['Innings Number'].astype(int)"
      ],
      "execution_count": null,
      "outputs": []
    },
    {
      "cell_type": "markdown",
      "metadata": {
        "id": "KqWasotuZUzO"
      },
      "source": [
        "Coverting dateTime"
      ]
    },
    {
      "cell_type": "code",
      "metadata": {
        "id": "2CHdm3JKWhQe"
      },
      "source": [
        "df[\"Innings Date\"]=pd.to_datetime(df['Innings Date'])"
      ],
      "execution_count": null,
      "outputs": []
    },
    {
      "cell_type": "markdown",
      "metadata": {
        "id": "VK0dpgmHaWgZ"
      },
      "source": [
        "Adding year as column"
      ]
    },
    {
      "cell_type": "code",
      "metadata": {
        "id": "nzzJlqQuZz4R"
      },
      "source": [
        "df[\"year\"]=df['Innings Date'].dt.year"
      ],
      "execution_count": null,
      "outputs": []
    },
    {
      "cell_type": "code",
      "metadata": {
        "colab": {
          "base_uri": "https://localhost:8080/",
          "height": 660
        },
        "id": "mvApWZrqdZUY",
        "outputId": "52152c00-4998-40f8-98f4-7deb31e0132f"
      },
      "source": [
        "df"
      ],
      "execution_count": null,
      "outputs": [
        {
          "output_type": "execute_result",
          "data": {
            "text/html": [
              "<div>\n",
              "<style scoped>\n",
              "    .dataframe tbody tr th:only-of-type {\n",
              "        vertical-align: middle;\n",
              "    }\n",
              "\n",
              "    .dataframe tbody tr th {\n",
              "        vertical-align: top;\n",
              "    }\n",
              "\n",
              "    .dataframe thead th {\n",
              "        text-align: right;\n",
              "    }\n",
              "</style>\n",
              "<table border=\"1\" class=\"dataframe\">\n",
              "  <thead>\n",
              "    <tr style=\"text-align: right;\">\n",
              "      <th></th>\n",
              "      <th>Innings Player</th>\n",
              "      <th>Innings Runs Scored</th>\n",
              "      <th>Innings Runs Scored Num</th>\n",
              "      <th>Innings Minutes Batted</th>\n",
              "      <th>Innings Batted Flag</th>\n",
              "      <th>Innings Not Out Flag</th>\n",
              "      <th>Innings Balls Faced</th>\n",
              "      <th>Innings Boundary Fours</th>\n",
              "      <th>Innings Boundary Sixes</th>\n",
              "      <th>Innings Batting Strike Rate</th>\n",
              "      <th>Innings Number</th>\n",
              "      <th>Opposition</th>\n",
              "      <th>Ground</th>\n",
              "      <th>Innings Date</th>\n",
              "      <th>Country</th>\n",
              "      <th>50's</th>\n",
              "      <th>100's</th>\n",
              "      <th>Innings Runs Scored Buckets</th>\n",
              "      <th>Innings Overs Bowled</th>\n",
              "      <th>Innings Bowled Flag</th>\n",
              "      <th>Innings Maidens Bowled</th>\n",
              "      <th>Innings Runs Conceded</th>\n",
              "      <th>Innings Wickets Taken</th>\n",
              "      <th>4 Wickets</th>\n",
              "      <th>5 Wickets</th>\n",
              "      <th>10 Wickets</th>\n",
              "      <th>Innings Wickets Taken Buckets</th>\n",
              "      <th>Innings Economy Rate</th>\n",
              "      <th>year</th>\n",
              "    </tr>\n",
              "  </thead>\n",
              "  <tbody>\n",
              "    <tr>\n",
              "      <th>0</th>\n",
              "      <td>E Lewis</td>\n",
              "      <td>65</td>\n",
              "      <td>65</td>\n",
              "      <td>128</td>\n",
              "      <td>1.0</td>\n",
              "      <td>0.0</td>\n",
              "      <td>80</td>\n",
              "      <td>8</td>\n",
              "      <td>1</td>\n",
              "      <td>81.25</td>\n",
              "      <td>2</td>\n",
              "      <td>v India</td>\n",
              "      <td>Port of Spain</td>\n",
              "      <td>2019-11-08</td>\n",
              "      <td>West Indies</td>\n",
              "      <td>1.0</td>\n",
              "      <td>0.0</td>\n",
              "      <td>50-99</td>\n",
              "      <td>NaN</td>\n",
              "      <td>NaN</td>\n",
              "      <td>NaN</td>\n",
              "      <td>NaN</td>\n",
              "      <td>NaN</td>\n",
              "      <td>NaN</td>\n",
              "      <td>NaN</td>\n",
              "      <td>NaN</td>\n",
              "      <td>NaN</td>\n",
              "      <td>NaN</td>\n",
              "      <td>2019</td>\n",
              "    </tr>\n",
              "    <tr>\n",
              "      <th>1</th>\n",
              "      <td>N Pooran</td>\n",
              "      <td>42</td>\n",
              "      <td>42</td>\n",
              "      <td>69</td>\n",
              "      <td>1.0</td>\n",
              "      <td>0.0</td>\n",
              "      <td>52</td>\n",
              "      <td>4</td>\n",
              "      <td>1</td>\n",
              "      <td>80.76</td>\n",
              "      <td>2</td>\n",
              "      <td>v India</td>\n",
              "      <td>Port of Spain</td>\n",
              "      <td>2019-11-08</td>\n",
              "      <td>West Indies</td>\n",
              "      <td>0.0</td>\n",
              "      <td>0.0</td>\n",
              "      <td>0-49</td>\n",
              "      <td>NaN</td>\n",
              "      <td>NaN</td>\n",
              "      <td>NaN</td>\n",
              "      <td>NaN</td>\n",
              "      <td>NaN</td>\n",
              "      <td>NaN</td>\n",
              "      <td>NaN</td>\n",
              "      <td>NaN</td>\n",
              "      <td>NaN</td>\n",
              "      <td>NaN</td>\n",
              "      <td>2019</td>\n",
              "    </tr>\n",
              "    <tr>\n",
              "      <th>2</th>\n",
              "      <td>SO Hetmyer</td>\n",
              "      <td>18</td>\n",
              "      <td>18</td>\n",
              "      <td>31</td>\n",
              "      <td>1.0</td>\n",
              "      <td>0.0</td>\n",
              "      <td>20</td>\n",
              "      <td>2</td>\n",
              "      <td>0</td>\n",
              "      <td>90</td>\n",
              "      <td>2</td>\n",
              "      <td>v India</td>\n",
              "      <td>Port of Spain</td>\n",
              "      <td>2019-11-08</td>\n",
              "      <td>West Indies</td>\n",
              "      <td>0.0</td>\n",
              "      <td>0.0</td>\n",
              "      <td>0-49</td>\n",
              "      <td>NaN</td>\n",
              "      <td>NaN</td>\n",
              "      <td>NaN</td>\n",
              "      <td>NaN</td>\n",
              "      <td>NaN</td>\n",
              "      <td>NaN</td>\n",
              "      <td>NaN</td>\n",
              "      <td>NaN</td>\n",
              "      <td>NaN</td>\n",
              "      <td>NaN</td>\n",
              "      <td>2019</td>\n",
              "    </tr>\n",
              "    <tr>\n",
              "      <th>3</th>\n",
              "      <td>RL Chase</td>\n",
              "      <td>18</td>\n",
              "      <td>18</td>\n",
              "      <td>34</td>\n",
              "      <td>1.0</td>\n",
              "      <td>0.0</td>\n",
              "      <td>23</td>\n",
              "      <td>0</td>\n",
              "      <td>0</td>\n",
              "      <td>78.26</td>\n",
              "      <td>2</td>\n",
              "      <td>v India</td>\n",
              "      <td>Port of Spain</td>\n",
              "      <td>2019-11-08</td>\n",
              "      <td>West Indies</td>\n",
              "      <td>0.0</td>\n",
              "      <td>0.0</td>\n",
              "      <td>0-49</td>\n",
              "      <td>NaN</td>\n",
              "      <td>NaN</td>\n",
              "      <td>NaN</td>\n",
              "      <td>NaN</td>\n",
              "      <td>NaN</td>\n",
              "      <td>NaN</td>\n",
              "      <td>NaN</td>\n",
              "      <td>NaN</td>\n",
              "      <td>NaN</td>\n",
              "      <td>NaN</td>\n",
              "      <td>2019</td>\n",
              "    </tr>\n",
              "    <tr>\n",
              "      <th>4</th>\n",
              "      <td>SS Cottrell</td>\n",
              "      <td>17</td>\n",
              "      <td>17</td>\n",
              "      <td>23</td>\n",
              "      <td>1.0</td>\n",
              "      <td>0.0</td>\n",
              "      <td>18</td>\n",
              "      <td>2</td>\n",
              "      <td>1</td>\n",
              "      <td>94.44</td>\n",
              "      <td>2</td>\n",
              "      <td>v India</td>\n",
              "      <td>Port of Spain</td>\n",
              "      <td>2019-11-08</td>\n",
              "      <td>West Indies</td>\n",
              "      <td>0.0</td>\n",
              "      <td>0.0</td>\n",
              "      <td>0-49</td>\n",
              "      <td>NaN</td>\n",
              "      <td>NaN</td>\n",
              "      <td>NaN</td>\n",
              "      <td>NaN</td>\n",
              "      <td>NaN</td>\n",
              "      <td>NaN</td>\n",
              "      <td>NaN</td>\n",
              "      <td>NaN</td>\n",
              "      <td>NaN</td>\n",
              "      <td>NaN</td>\n",
              "      <td>2019</td>\n",
              "    </tr>\n",
              "    <tr>\n",
              "      <th>...</th>\n",
              "      <td>...</td>\n",
              "      <td>...</td>\n",
              "      <td>...</td>\n",
              "      <td>...</td>\n",
              "      <td>...</td>\n",
              "      <td>...</td>\n",
              "      <td>...</td>\n",
              "      <td>...</td>\n",
              "      <td>...</td>\n",
              "      <td>...</td>\n",
              "      <td>...</td>\n",
              "      <td>...</td>\n",
              "      <td>...</td>\n",
              "      <td>...</td>\n",
              "      <td>...</td>\n",
              "      <td>...</td>\n",
              "      <td>...</td>\n",
              "      <td>...</td>\n",
              "      <td>...</td>\n",
              "      <td>...</td>\n",
              "      <td>...</td>\n",
              "      <td>...</td>\n",
              "      <td>...</td>\n",
              "      <td>...</td>\n",
              "      <td>...</td>\n",
              "      <td>...</td>\n",
              "      <td>...</td>\n",
              "      <td>...</td>\n",
              "      <td>...</td>\n",
              "    </tr>\n",
              "    <tr>\n",
              "      <th>171937</th>\n",
              "      <td>WM Lawry</td>\n",
              "      <td>27</td>\n",
              "      <td>27</td>\n",
              "      <td>51</td>\n",
              "      <td>1.0</td>\n",
              "      <td>0.0</td>\n",
              "      <td>49</td>\n",
              "      <td>0</td>\n",
              "      <td>0</td>\n",
              "      <td>55.1</td>\n",
              "      <td>2</td>\n",
              "      <td>v England</td>\n",
              "      <td>Melbourne</td>\n",
              "      <td>1971-05-01</td>\n",
              "      <td>Australia</td>\n",
              "      <td>0.0</td>\n",
              "      <td>0.0</td>\n",
              "      <td>0-49</td>\n",
              "      <td>NaN</td>\n",
              "      <td>NaN</td>\n",
              "      <td>NaN</td>\n",
              "      <td>NaN</td>\n",
              "      <td>NaN</td>\n",
              "      <td>NaN</td>\n",
              "      <td>NaN</td>\n",
              "      <td>NaN</td>\n",
              "      <td>NaN</td>\n",
              "      <td>NaN</td>\n",
              "      <td>1971</td>\n",
              "    </tr>\n",
              "    <tr>\n",
              "      <th>171938</th>\n",
              "      <td>GS Chappell</td>\n",
              "      <td>22*</td>\n",
              "      <td>22</td>\n",
              "      <td>34</td>\n",
              "      <td>1.0</td>\n",
              "      <td>1.0</td>\n",
              "      <td>29</td>\n",
              "      <td>1</td>\n",
              "      <td>0</td>\n",
              "      <td>75.86</td>\n",
              "      <td>2</td>\n",
              "      <td>v England</td>\n",
              "      <td>Melbourne</td>\n",
              "      <td>1971-05-01</td>\n",
              "      <td>Australia</td>\n",
              "      <td>0.0</td>\n",
              "      <td>0.0</td>\n",
              "      <td>0-49</td>\n",
              "      <td>NaN</td>\n",
              "      <td>NaN</td>\n",
              "      <td>NaN</td>\n",
              "      <td>NaN</td>\n",
              "      <td>NaN</td>\n",
              "      <td>NaN</td>\n",
              "      <td>NaN</td>\n",
              "      <td>NaN</td>\n",
              "      <td>NaN</td>\n",
              "      <td>NaN</td>\n",
              "      <td>1971</td>\n",
              "    </tr>\n",
              "    <tr>\n",
              "      <th>171939</th>\n",
              "      <td>KR Stackpole</td>\n",
              "      <td>13</td>\n",
              "      <td>13</td>\n",
              "      <td>20</td>\n",
              "      <td>1.0</td>\n",
              "      <td>0.0</td>\n",
              "      <td>15</td>\n",
              "      <td>2</td>\n",
              "      <td>0</td>\n",
              "      <td>86.66</td>\n",
              "      <td>2</td>\n",
              "      <td>v England</td>\n",
              "      <td>Melbourne</td>\n",
              "      <td>1971-05-01</td>\n",
              "      <td>Australia</td>\n",
              "      <td>0.0</td>\n",
              "      <td>0.0</td>\n",
              "      <td>0-49</td>\n",
              "      <td>NaN</td>\n",
              "      <td>NaN</td>\n",
              "      <td>NaN</td>\n",
              "      <td>NaN</td>\n",
              "      <td>NaN</td>\n",
              "      <td>NaN</td>\n",
              "      <td>NaN</td>\n",
              "      <td>NaN</td>\n",
              "      <td>NaN</td>\n",
              "      <td>NaN</td>\n",
              "      <td>1971</td>\n",
              "    </tr>\n",
              "    <tr>\n",
              "      <th>171940</th>\n",
              "      <td>IR Redpath</td>\n",
              "      <td>12</td>\n",
              "      <td>12</td>\n",
              "      <td>21</td>\n",
              "      <td>1.0</td>\n",
              "      <td>0.0</td>\n",
              "      <td>14</td>\n",
              "      <td>1</td>\n",
              "      <td>0</td>\n",
              "      <td>85.71</td>\n",
              "      <td>2</td>\n",
              "      <td>v England</td>\n",
              "      <td>Melbourne</td>\n",
              "      <td>1971-05-01</td>\n",
              "      <td>Australia</td>\n",
              "      <td>0.0</td>\n",
              "      <td>0.0</td>\n",
              "      <td>0-49</td>\n",
              "      <td>NaN</td>\n",
              "      <td>NaN</td>\n",
              "      <td>NaN</td>\n",
              "      <td>NaN</td>\n",
              "      <td>NaN</td>\n",
              "      <td>NaN</td>\n",
              "      <td>NaN</td>\n",
              "      <td>NaN</td>\n",
              "      <td>NaN</td>\n",
              "      <td>NaN</td>\n",
              "      <td>1971</td>\n",
              "    </tr>\n",
              "    <tr>\n",
              "      <th>171941</th>\n",
              "      <td>RW Marsh</td>\n",
              "      <td>10*</td>\n",
              "      <td>10</td>\n",
              "      <td>24</td>\n",
              "      <td>1.0</td>\n",
              "      <td>1.0</td>\n",
              "      <td>18</td>\n",
              "      <td>2</td>\n",
              "      <td>0</td>\n",
              "      <td>55.55</td>\n",
              "      <td>2</td>\n",
              "      <td>v England</td>\n",
              "      <td>Melbourne</td>\n",
              "      <td>1971-05-01</td>\n",
              "      <td>Australia</td>\n",
              "      <td>0.0</td>\n",
              "      <td>0.0</td>\n",
              "      <td>0-49</td>\n",
              "      <td>NaN</td>\n",
              "      <td>NaN</td>\n",
              "      <td>NaN</td>\n",
              "      <td>NaN</td>\n",
              "      <td>NaN</td>\n",
              "      <td>NaN</td>\n",
              "      <td>NaN</td>\n",
              "      <td>NaN</td>\n",
              "      <td>NaN</td>\n",
              "      <td>NaN</td>\n",
              "      <td>1971</td>\n",
              "    </tr>\n",
              "  </tbody>\n",
              "</table>\n",
              "<p>67595 rows × 29 columns</p>\n",
              "</div>"
            ],
            "text/plain": [
              "       Innings Player Innings Runs Scored  ...  Innings Economy Rate  year\n",
              "0             E Lewis                  65  ...                   NaN  2019\n",
              "1            N Pooran                  42  ...                   NaN  2019\n",
              "2          SO Hetmyer                  18  ...                   NaN  2019\n",
              "3            RL Chase                  18  ...                   NaN  2019\n",
              "4         SS Cottrell                  17  ...                   NaN  2019\n",
              "...               ...                 ...  ...                   ...   ...\n",
              "171937       WM Lawry                  27  ...                   NaN  1971\n",
              "171938    GS Chappell                 22*  ...                   NaN  1971\n",
              "171939   KR Stackpole                  13  ...                   NaN  1971\n",
              "171940     IR Redpath                  12  ...                   NaN  1971\n",
              "171941       RW Marsh                 10*  ...                   NaN  1971\n",
              "\n",
              "[67595 rows x 29 columns]"
            ]
          },
          "metadata": {},
          "execution_count": 190
        }
      ]
    },
    {
      "cell_type": "markdown",
      "metadata": {
        "id": "Y035wwJBc-OL"
      },
      "source": [
        "**Sachin vs Kohli**"
      ]
    },
    {
      "cell_type": "markdown",
      "metadata": {
        "id": "D3JI5G7SeSjd"
      },
      "source": [
        "Extracting  data from 1994 to 2004"
      ]
    },
    {
      "cell_type": "code",
      "metadata": {
        "id": "wQuk7qwFaNV_"
      },
      "source": [
        "sachin=df[(df.year>=1994)&(df.year<=2004)]"
      ],
      "execution_count": null,
      "outputs": []
    },
    {
      "cell_type": "code",
      "metadata": {
        "colab": {
          "base_uri": "https://localhost:8080/",
          "height": 660
        },
        "id": "QbYgiliaeMgI",
        "outputId": "b76c3142-1a1d-48a1-ef58-9a5f2be21217"
      },
      "source": [
        "sachin"
      ],
      "execution_count": null,
      "outputs": [
        {
          "output_type": "execute_result",
          "data": {
            "text/html": [
              "<div>\n",
              "<style scoped>\n",
              "    .dataframe tbody tr th:only-of-type {\n",
              "        vertical-align: middle;\n",
              "    }\n",
              "\n",
              "    .dataframe tbody tr th {\n",
              "        vertical-align: top;\n",
              "    }\n",
              "\n",
              "    .dataframe thead th {\n",
              "        text-align: right;\n",
              "    }\n",
              "</style>\n",
              "<table border=\"1\" class=\"dataframe\">\n",
              "  <thead>\n",
              "    <tr style=\"text-align: right;\">\n",
              "      <th></th>\n",
              "      <th>Innings Player</th>\n",
              "      <th>Innings Runs Scored</th>\n",
              "      <th>Innings Runs Scored Num</th>\n",
              "      <th>Innings Minutes Batted</th>\n",
              "      <th>Innings Batted Flag</th>\n",
              "      <th>Innings Not Out Flag</th>\n",
              "      <th>Innings Balls Faced</th>\n",
              "      <th>Innings Boundary Fours</th>\n",
              "      <th>Innings Boundary Sixes</th>\n",
              "      <th>Innings Batting Strike Rate</th>\n",
              "      <th>Innings Number</th>\n",
              "      <th>Opposition</th>\n",
              "      <th>Ground</th>\n",
              "      <th>Innings Date</th>\n",
              "      <th>Country</th>\n",
              "      <th>50's</th>\n",
              "      <th>100's</th>\n",
              "      <th>Innings Runs Scored Buckets</th>\n",
              "      <th>Innings Overs Bowled</th>\n",
              "      <th>Innings Bowled Flag</th>\n",
              "      <th>Innings Maidens Bowled</th>\n",
              "      <th>Innings Runs Conceded</th>\n",
              "      <th>Innings Wickets Taken</th>\n",
              "      <th>4 Wickets</th>\n",
              "      <th>5 Wickets</th>\n",
              "      <th>10 Wickets</th>\n",
              "      <th>Innings Wickets Taken Buckets</th>\n",
              "      <th>Innings Economy Rate</th>\n",
              "      <th>year</th>\n",
              "    </tr>\n",
              "  </thead>\n",
              "  <tbody>\n",
              "    <tr>\n",
              "      <th>77610</th>\n",
              "      <td>V Sehwag</td>\n",
              "      <td>70</td>\n",
              "      <td>70</td>\n",
              "      <td>85</td>\n",
              "      <td>1.0</td>\n",
              "      <td>0.0</td>\n",
              "      <td>52</td>\n",
              "      <td>9</td>\n",
              "      <td>2</td>\n",
              "      <td>134.61</td>\n",
              "      <td>1</td>\n",
              "      <td>v Bangladesh</td>\n",
              "      <td>Dhaka</td>\n",
              "      <td>2004-12-27</td>\n",
              "      <td>India</td>\n",
              "      <td>1.0</td>\n",
              "      <td>0.0</td>\n",
              "      <td>50-99</td>\n",
              "      <td>NaN</td>\n",
              "      <td>NaN</td>\n",
              "      <td>NaN</td>\n",
              "      <td>NaN</td>\n",
              "      <td>NaN</td>\n",
              "      <td>NaN</td>\n",
              "      <td>NaN</td>\n",
              "      <td>NaN</td>\n",
              "      <td>NaN</td>\n",
              "      <td>NaN</td>\n",
              "      <td>2004</td>\n",
              "    </tr>\n",
              "    <tr>\n",
              "      <th>77611</th>\n",
              "      <td>Yuvraj Singh</td>\n",
              "      <td>69</td>\n",
              "      <td>69</td>\n",
              "      <td>34</td>\n",
              "      <td>1.0</td>\n",
              "      <td>0.0</td>\n",
              "      <td>32</td>\n",
              "      <td>8</td>\n",
              "      <td>3</td>\n",
              "      <td>215.62</td>\n",
              "      <td>1</td>\n",
              "      <td>v Bangladesh</td>\n",
              "      <td>Dhaka</td>\n",
              "      <td>2004-12-27</td>\n",
              "      <td>India</td>\n",
              "      <td>1.0</td>\n",
              "      <td>0.0</td>\n",
              "      <td>50-99</td>\n",
              "      <td>NaN</td>\n",
              "      <td>NaN</td>\n",
              "      <td>NaN</td>\n",
              "      <td>NaN</td>\n",
              "      <td>NaN</td>\n",
              "      <td>NaN</td>\n",
              "      <td>NaN</td>\n",
              "      <td>NaN</td>\n",
              "      <td>NaN</td>\n",
              "      <td>NaN</td>\n",
              "      <td>2004</td>\n",
              "    </tr>\n",
              "    <tr>\n",
              "      <th>77612</th>\n",
              "      <td>R Dravid</td>\n",
              "      <td>60</td>\n",
              "      <td>60</td>\n",
              "      <td>87</td>\n",
              "      <td>1.0</td>\n",
              "      <td>0.0</td>\n",
              "      <td>68</td>\n",
              "      <td>5</td>\n",
              "      <td>0</td>\n",
              "      <td>88.23</td>\n",
              "      <td>1</td>\n",
              "      <td>v Bangladesh</td>\n",
              "      <td>Dhaka</td>\n",
              "      <td>2004-12-27</td>\n",
              "      <td>India</td>\n",
              "      <td>1.0</td>\n",
              "      <td>0.0</td>\n",
              "      <td>50-99</td>\n",
              "      <td>NaN</td>\n",
              "      <td>NaN</td>\n",
              "      <td>NaN</td>\n",
              "      <td>NaN</td>\n",
              "      <td>NaN</td>\n",
              "      <td>NaN</td>\n",
              "      <td>NaN</td>\n",
              "      <td>NaN</td>\n",
              "      <td>NaN</td>\n",
              "      <td>NaN</td>\n",
              "      <td>2004</td>\n",
              "    </tr>\n",
              "    <tr>\n",
              "      <th>77613</th>\n",
              "      <td>SC Ganguly</td>\n",
              "      <td>55</td>\n",
              "      <td>55</td>\n",
              "      <td>98</td>\n",
              "      <td>1.0</td>\n",
              "      <td>0.0</td>\n",
              "      <td>80</td>\n",
              "      <td>2</td>\n",
              "      <td>2</td>\n",
              "      <td>68.75</td>\n",
              "      <td>1</td>\n",
              "      <td>v Bangladesh</td>\n",
              "      <td>Dhaka</td>\n",
              "      <td>2004-12-27</td>\n",
              "      <td>India</td>\n",
              "      <td>1.0</td>\n",
              "      <td>0.0</td>\n",
              "      <td>50-99</td>\n",
              "      <td>NaN</td>\n",
              "      <td>NaN</td>\n",
              "      <td>NaN</td>\n",
              "      <td>NaN</td>\n",
              "      <td>NaN</td>\n",
              "      <td>NaN</td>\n",
              "      <td>NaN</td>\n",
              "      <td>NaN</td>\n",
              "      <td>NaN</td>\n",
              "      <td>NaN</td>\n",
              "      <td>2004</td>\n",
              "    </tr>\n",
              "    <tr>\n",
              "      <th>77614</th>\n",
              "      <td>SR Tendulkar</td>\n",
              "      <td>47</td>\n",
              "      <td>47</td>\n",
              "      <td>60</td>\n",
              "      <td>1.0</td>\n",
              "      <td>0.0</td>\n",
              "      <td>42</td>\n",
              "      <td>9</td>\n",
              "      <td>0</td>\n",
              "      <td>111.9</td>\n",
              "      <td>1</td>\n",
              "      <td>v Bangladesh</td>\n",
              "      <td>Dhaka</td>\n",
              "      <td>2004-12-27</td>\n",
              "      <td>India</td>\n",
              "      <td>0.0</td>\n",
              "      <td>0.0</td>\n",
              "      <td>0-49</td>\n",
              "      <td>NaN</td>\n",
              "      <td>NaN</td>\n",
              "      <td>NaN</td>\n",
              "      <td>NaN</td>\n",
              "      <td>NaN</td>\n",
              "      <td>NaN</td>\n",
              "      <td>NaN</td>\n",
              "      <td>NaN</td>\n",
              "      <td>NaN</td>\n",
              "      <td>NaN</td>\n",
              "      <td>2004</td>\n",
              "    </tr>\n",
              "    <tr>\n",
              "      <th>...</th>\n",
              "      <td>...</td>\n",
              "      <td>...</td>\n",
              "      <td>...</td>\n",
              "      <td>...</td>\n",
              "      <td>...</td>\n",
              "      <td>...</td>\n",
              "      <td>...</td>\n",
              "      <td>...</td>\n",
              "      <td>...</td>\n",
              "      <td>...</td>\n",
              "      <td>...</td>\n",
              "      <td>...</td>\n",
              "      <td>...</td>\n",
              "      <td>...</td>\n",
              "      <td>...</td>\n",
              "      <td>...</td>\n",
              "      <td>...</td>\n",
              "      <td>...</td>\n",
              "      <td>...</td>\n",
              "      <td>...</td>\n",
              "      <td>...</td>\n",
              "      <td>...</td>\n",
              "      <td>...</td>\n",
              "      <td>...</td>\n",
              "      <td>...</td>\n",
              "      <td>...</td>\n",
              "      <td>...</td>\n",
              "      <td>...</td>\n",
              "      <td>...</td>\n",
              "    </tr>\n",
              "    <tr>\n",
              "      <th>133835</th>\n",
              "      <td>MJ Greatbatch</td>\n",
              "      <td>21</td>\n",
              "      <td>21</td>\n",
              "      <td>48</td>\n",
              "      <td>1.0</td>\n",
              "      <td>0.0</td>\n",
              "      <td>35</td>\n",
              "      <td>0</td>\n",
              "      <td>0</td>\n",
              "      <td>60</td>\n",
              "      <td>1</td>\n",
              "      <td>v South Africa</td>\n",
              "      <td>Brisbane</td>\n",
              "      <td>1994-08-01</td>\n",
              "      <td>New Zealand</td>\n",
              "      <td>0.0</td>\n",
              "      <td>0.0</td>\n",
              "      <td>0-49</td>\n",
              "      <td>NaN</td>\n",
              "      <td>NaN</td>\n",
              "      <td>NaN</td>\n",
              "      <td>NaN</td>\n",
              "      <td>NaN</td>\n",
              "      <td>NaN</td>\n",
              "      <td>NaN</td>\n",
              "      <td>NaN</td>\n",
              "      <td>NaN</td>\n",
              "      <td>NaN</td>\n",
              "      <td>1994</td>\n",
              "    </tr>\n",
              "    <tr>\n",
              "      <th>133836</th>\n",
              "      <td>RT Latham</td>\n",
              "      <td>11</td>\n",
              "      <td>11</td>\n",
              "      <td>35</td>\n",
              "      <td>1.0</td>\n",
              "      <td>0.0</td>\n",
              "      <td>20</td>\n",
              "      <td>1</td>\n",
              "      <td>0</td>\n",
              "      <td>55</td>\n",
              "      <td>1</td>\n",
              "      <td>v South Africa</td>\n",
              "      <td>Brisbane</td>\n",
              "      <td>1994-08-01</td>\n",
              "      <td>New Zealand</td>\n",
              "      <td>0.0</td>\n",
              "      <td>0.0</td>\n",
              "      <td>0-49</td>\n",
              "      <td>NaN</td>\n",
              "      <td>NaN</td>\n",
              "      <td>NaN</td>\n",
              "      <td>NaN</td>\n",
              "      <td>NaN</td>\n",
              "      <td>NaN</td>\n",
              "      <td>NaN</td>\n",
              "      <td>NaN</td>\n",
              "      <td>NaN</td>\n",
              "      <td>NaN</td>\n",
              "      <td>1994</td>\n",
              "    </tr>\n",
              "    <tr>\n",
              "      <th>133837</th>\n",
              "      <td>AH Jones</td>\n",
              "      <td>9</td>\n",
              "      <td>9</td>\n",
              "      <td>26</td>\n",
              "      <td>1.0</td>\n",
              "      <td>0.0</td>\n",
              "      <td>23</td>\n",
              "      <td>1</td>\n",
              "      <td>0</td>\n",
              "      <td>39.13</td>\n",
              "      <td>1</td>\n",
              "      <td>v South Africa</td>\n",
              "      <td>Brisbane</td>\n",
              "      <td>1994-08-01</td>\n",
              "      <td>New Zealand</td>\n",
              "      <td>0.0</td>\n",
              "      <td>0.0</td>\n",
              "      <td>0-49</td>\n",
              "      <td>NaN</td>\n",
              "      <td>NaN</td>\n",
              "      <td>NaN</td>\n",
              "      <td>NaN</td>\n",
              "      <td>NaN</td>\n",
              "      <td>NaN</td>\n",
              "      <td>NaN</td>\n",
              "      <td>NaN</td>\n",
              "      <td>NaN</td>\n",
              "      <td>NaN</td>\n",
              "      <td>1994</td>\n",
              "    </tr>\n",
              "    <tr>\n",
              "      <th>133838</th>\n",
              "      <td>GR Larsen</td>\n",
              "      <td>6*</td>\n",
              "      <td>6</td>\n",
              "      <td>13</td>\n",
              "      <td>1.0</td>\n",
              "      <td>1.0</td>\n",
              "      <td>7</td>\n",
              "      <td>0</td>\n",
              "      <td>0</td>\n",
              "      <td>85.71</td>\n",
              "      <td>1</td>\n",
              "      <td>v South Africa</td>\n",
              "      <td>Brisbane</td>\n",
              "      <td>1994-08-01</td>\n",
              "      <td>New Zealand</td>\n",
              "      <td>0.0</td>\n",
              "      <td>0.0</td>\n",
              "      <td>0-49</td>\n",
              "      <td>NaN</td>\n",
              "      <td>NaN</td>\n",
              "      <td>NaN</td>\n",
              "      <td>NaN</td>\n",
              "      <td>NaN</td>\n",
              "      <td>NaN</td>\n",
              "      <td>NaN</td>\n",
              "      <td>NaN</td>\n",
              "      <td>NaN</td>\n",
              "      <td>NaN</td>\n",
              "      <td>1994</td>\n",
              "    </tr>\n",
              "    <tr>\n",
              "      <th>133839</th>\n",
              "      <td>KR Rutherford</td>\n",
              "      <td>1</td>\n",
              "      <td>1</td>\n",
              "      <td>5</td>\n",
              "      <td>1.0</td>\n",
              "      <td>0.0</td>\n",
              "      <td>3</td>\n",
              "      <td>0</td>\n",
              "      <td>0</td>\n",
              "      <td>33.33</td>\n",
              "      <td>1</td>\n",
              "      <td>v South Africa</td>\n",
              "      <td>Brisbane</td>\n",
              "      <td>1994-08-01</td>\n",
              "      <td>New Zealand</td>\n",
              "      <td>0.0</td>\n",
              "      <td>0.0</td>\n",
              "      <td>0-49</td>\n",
              "      <td>NaN</td>\n",
              "      <td>NaN</td>\n",
              "      <td>NaN</td>\n",
              "      <td>NaN</td>\n",
              "      <td>NaN</td>\n",
              "      <td>NaN</td>\n",
              "      <td>NaN</td>\n",
              "      <td>NaN</td>\n",
              "      <td>NaN</td>\n",
              "      <td>NaN</td>\n",
              "      <td>1994</td>\n",
              "    </tr>\n",
              "  </tbody>\n",
              "</table>\n",
              "<p>22207 rows × 29 columns</p>\n",
              "</div>"
            ],
            "text/plain": [
              "       Innings Player Innings Runs Scored  ...  Innings Economy Rate  year\n",
              "77610        V Sehwag                  70  ...                   NaN  2004\n",
              "77611    Yuvraj Singh                  69  ...                   NaN  2004\n",
              "77612        R Dravid                  60  ...                   NaN  2004\n",
              "77613      SC Ganguly                  55  ...                   NaN  2004\n",
              "77614    SR Tendulkar                  47  ...                   NaN  2004\n",
              "...               ...                 ...  ...                   ...   ...\n",
              "133835  MJ Greatbatch                  21  ...                   NaN  1994\n",
              "133836      RT Latham                  11  ...                   NaN  1994\n",
              "133837       AH Jones                   9  ...                   NaN  1994\n",
              "133838      GR Larsen                  6*  ...                   NaN  1994\n",
              "133839  KR Rutherford                   1  ...                   NaN  1994\n",
              "\n",
              "[22207 rows x 29 columns]"
            ]
          },
          "metadata": {},
          "execution_count": 192
        }
      ]
    },
    {
      "cell_type": "markdown",
      "metadata": {
        "id": "3BdaFlSjea-U"
      },
      "source": [
        "Extracting data from 2009 to 2019"
      ]
    },
    {
      "cell_type": "code",
      "metadata": {
        "id": "Qv66njSyePet"
      },
      "source": [
        "kohli=df[(df.year>=2009)&(df.year<=2019)]"
      ],
      "execution_count": null,
      "outputs": []
    },
    {
      "cell_type": "code",
      "metadata": {
        "colab": {
          "base_uri": "https://localhost:8080/",
          "height": 660
        },
        "id": "HAj3hkBGeq4x",
        "outputId": "ec503cd4-e81a-4650-bcbf-ad69e4631213"
      },
      "source": [
        "kohli"
      ],
      "execution_count": null,
      "outputs": [
        {
          "output_type": "execute_result",
          "data": {
            "text/html": [
              "<div>\n",
              "<style scoped>\n",
              "    .dataframe tbody tr th:only-of-type {\n",
              "        vertical-align: middle;\n",
              "    }\n",
              "\n",
              "    .dataframe tbody tr th {\n",
              "        vertical-align: top;\n",
              "    }\n",
              "\n",
              "    .dataframe thead th {\n",
              "        text-align: right;\n",
              "    }\n",
              "</style>\n",
              "<table border=\"1\" class=\"dataframe\">\n",
              "  <thead>\n",
              "    <tr style=\"text-align: right;\">\n",
              "      <th></th>\n",
              "      <th>Innings Player</th>\n",
              "      <th>Innings Runs Scored</th>\n",
              "      <th>Innings Runs Scored Num</th>\n",
              "      <th>Innings Minutes Batted</th>\n",
              "      <th>Innings Batted Flag</th>\n",
              "      <th>Innings Not Out Flag</th>\n",
              "      <th>Innings Balls Faced</th>\n",
              "      <th>Innings Boundary Fours</th>\n",
              "      <th>Innings Boundary Sixes</th>\n",
              "      <th>Innings Batting Strike Rate</th>\n",
              "      <th>Innings Number</th>\n",
              "      <th>Opposition</th>\n",
              "      <th>Ground</th>\n",
              "      <th>Innings Date</th>\n",
              "      <th>Country</th>\n",
              "      <th>50's</th>\n",
              "      <th>100's</th>\n",
              "      <th>Innings Runs Scored Buckets</th>\n",
              "      <th>Innings Overs Bowled</th>\n",
              "      <th>Innings Bowled Flag</th>\n",
              "      <th>Innings Maidens Bowled</th>\n",
              "      <th>Innings Runs Conceded</th>\n",
              "      <th>Innings Wickets Taken</th>\n",
              "      <th>4 Wickets</th>\n",
              "      <th>5 Wickets</th>\n",
              "      <th>10 Wickets</th>\n",
              "      <th>Innings Wickets Taken Buckets</th>\n",
              "      <th>Innings Economy Rate</th>\n",
              "      <th>year</th>\n",
              "    </tr>\n",
              "  </thead>\n",
              "  <tbody>\n",
              "    <tr>\n",
              "      <th>0</th>\n",
              "      <td>E Lewis</td>\n",
              "      <td>65</td>\n",
              "      <td>65</td>\n",
              "      <td>128</td>\n",
              "      <td>1.0</td>\n",
              "      <td>0.0</td>\n",
              "      <td>80</td>\n",
              "      <td>8</td>\n",
              "      <td>1</td>\n",
              "      <td>81.25</td>\n",
              "      <td>2</td>\n",
              "      <td>v India</td>\n",
              "      <td>Port of Spain</td>\n",
              "      <td>2019-11-08</td>\n",
              "      <td>West Indies</td>\n",
              "      <td>1.0</td>\n",
              "      <td>0.0</td>\n",
              "      <td>50-99</td>\n",
              "      <td>NaN</td>\n",
              "      <td>NaN</td>\n",
              "      <td>NaN</td>\n",
              "      <td>NaN</td>\n",
              "      <td>NaN</td>\n",
              "      <td>NaN</td>\n",
              "      <td>NaN</td>\n",
              "      <td>NaN</td>\n",
              "      <td>NaN</td>\n",
              "      <td>NaN</td>\n",
              "      <td>2019</td>\n",
              "    </tr>\n",
              "    <tr>\n",
              "      <th>1</th>\n",
              "      <td>N Pooran</td>\n",
              "      <td>42</td>\n",
              "      <td>42</td>\n",
              "      <td>69</td>\n",
              "      <td>1.0</td>\n",
              "      <td>0.0</td>\n",
              "      <td>52</td>\n",
              "      <td>4</td>\n",
              "      <td>1</td>\n",
              "      <td>80.76</td>\n",
              "      <td>2</td>\n",
              "      <td>v India</td>\n",
              "      <td>Port of Spain</td>\n",
              "      <td>2019-11-08</td>\n",
              "      <td>West Indies</td>\n",
              "      <td>0.0</td>\n",
              "      <td>0.0</td>\n",
              "      <td>0-49</td>\n",
              "      <td>NaN</td>\n",
              "      <td>NaN</td>\n",
              "      <td>NaN</td>\n",
              "      <td>NaN</td>\n",
              "      <td>NaN</td>\n",
              "      <td>NaN</td>\n",
              "      <td>NaN</td>\n",
              "      <td>NaN</td>\n",
              "      <td>NaN</td>\n",
              "      <td>NaN</td>\n",
              "      <td>2019</td>\n",
              "    </tr>\n",
              "    <tr>\n",
              "      <th>2</th>\n",
              "      <td>SO Hetmyer</td>\n",
              "      <td>18</td>\n",
              "      <td>18</td>\n",
              "      <td>31</td>\n",
              "      <td>1.0</td>\n",
              "      <td>0.0</td>\n",
              "      <td>20</td>\n",
              "      <td>2</td>\n",
              "      <td>0</td>\n",
              "      <td>90</td>\n",
              "      <td>2</td>\n",
              "      <td>v India</td>\n",
              "      <td>Port of Spain</td>\n",
              "      <td>2019-11-08</td>\n",
              "      <td>West Indies</td>\n",
              "      <td>0.0</td>\n",
              "      <td>0.0</td>\n",
              "      <td>0-49</td>\n",
              "      <td>NaN</td>\n",
              "      <td>NaN</td>\n",
              "      <td>NaN</td>\n",
              "      <td>NaN</td>\n",
              "      <td>NaN</td>\n",
              "      <td>NaN</td>\n",
              "      <td>NaN</td>\n",
              "      <td>NaN</td>\n",
              "      <td>NaN</td>\n",
              "      <td>NaN</td>\n",
              "      <td>2019</td>\n",
              "    </tr>\n",
              "    <tr>\n",
              "      <th>3</th>\n",
              "      <td>RL Chase</td>\n",
              "      <td>18</td>\n",
              "      <td>18</td>\n",
              "      <td>34</td>\n",
              "      <td>1.0</td>\n",
              "      <td>0.0</td>\n",
              "      <td>23</td>\n",
              "      <td>0</td>\n",
              "      <td>0</td>\n",
              "      <td>78.26</td>\n",
              "      <td>2</td>\n",
              "      <td>v India</td>\n",
              "      <td>Port of Spain</td>\n",
              "      <td>2019-11-08</td>\n",
              "      <td>West Indies</td>\n",
              "      <td>0.0</td>\n",
              "      <td>0.0</td>\n",
              "      <td>0-49</td>\n",
              "      <td>NaN</td>\n",
              "      <td>NaN</td>\n",
              "      <td>NaN</td>\n",
              "      <td>NaN</td>\n",
              "      <td>NaN</td>\n",
              "      <td>NaN</td>\n",
              "      <td>NaN</td>\n",
              "      <td>NaN</td>\n",
              "      <td>NaN</td>\n",
              "      <td>NaN</td>\n",
              "      <td>2019</td>\n",
              "    </tr>\n",
              "    <tr>\n",
              "      <th>4</th>\n",
              "      <td>SS Cottrell</td>\n",
              "      <td>17</td>\n",
              "      <td>17</td>\n",
              "      <td>23</td>\n",
              "      <td>1.0</td>\n",
              "      <td>0.0</td>\n",
              "      <td>18</td>\n",
              "      <td>2</td>\n",
              "      <td>1</td>\n",
              "      <td>94.44</td>\n",
              "      <td>2</td>\n",
              "      <td>v India</td>\n",
              "      <td>Port of Spain</td>\n",
              "      <td>2019-11-08</td>\n",
              "      <td>West Indies</td>\n",
              "      <td>0.0</td>\n",
              "      <td>0.0</td>\n",
              "      <td>0-49</td>\n",
              "      <td>NaN</td>\n",
              "      <td>NaN</td>\n",
              "      <td>NaN</td>\n",
              "      <td>NaN</td>\n",
              "      <td>NaN</td>\n",
              "      <td>NaN</td>\n",
              "      <td>NaN</td>\n",
              "      <td>NaN</td>\n",
              "      <td>NaN</td>\n",
              "      <td>NaN</td>\n",
              "      <td>2019</td>\n",
              "    </tr>\n",
              "    <tr>\n",
              "      <th>...</th>\n",
              "      <td>...</td>\n",
              "      <td>...</td>\n",
              "      <td>...</td>\n",
              "      <td>...</td>\n",
              "      <td>...</td>\n",
              "      <td>...</td>\n",
              "      <td>...</td>\n",
              "      <td>...</td>\n",
              "      <td>...</td>\n",
              "      <td>...</td>\n",
              "      <td>...</td>\n",
              "      <td>...</td>\n",
              "      <td>...</td>\n",
              "      <td>...</td>\n",
              "      <td>...</td>\n",
              "      <td>...</td>\n",
              "      <td>...</td>\n",
              "      <td>...</td>\n",
              "      <td>...</td>\n",
              "      <td>...</td>\n",
              "      <td>...</td>\n",
              "      <td>...</td>\n",
              "      <td>...</td>\n",
              "      <td>...</td>\n",
              "      <td>...</td>\n",
              "      <td>...</td>\n",
              "      <td>...</td>\n",
              "      <td>...</td>\n",
              "      <td>...</td>\n",
              "    </tr>\n",
              "    <tr>\n",
              "      <th>55610</th>\n",
              "      <td>TG Southee</td>\n",
              "      <td>6*</td>\n",
              "      <td>6</td>\n",
              "      <td>6</td>\n",
              "      <td>1.0</td>\n",
              "      <td>1.0</td>\n",
              "      <td>4</td>\n",
              "      <td>1</td>\n",
              "      <td>0</td>\n",
              "      <td>150</td>\n",
              "      <td>1</td>\n",
              "      <td>v West Indies</td>\n",
              "      <td>Christchurch</td>\n",
              "      <td>2009-03-01</td>\n",
              "      <td>New Zealand</td>\n",
              "      <td>0.0</td>\n",
              "      <td>0.0</td>\n",
              "      <td>0-49</td>\n",
              "      <td>NaN</td>\n",
              "      <td>NaN</td>\n",
              "      <td>NaN</td>\n",
              "      <td>NaN</td>\n",
              "      <td>NaN</td>\n",
              "      <td>NaN</td>\n",
              "      <td>NaN</td>\n",
              "      <td>NaN</td>\n",
              "      <td>NaN</td>\n",
              "      <td>NaN</td>\n",
              "      <td>2009</td>\n",
              "    </tr>\n",
              "    <tr>\n",
              "      <th>55611</th>\n",
              "      <td>KD Mills</td>\n",
              "      <td>6</td>\n",
              "      <td>6</td>\n",
              "      <td>12</td>\n",
              "      <td>1.0</td>\n",
              "      <td>0.0</td>\n",
              "      <td>7</td>\n",
              "      <td>0</td>\n",
              "      <td>0</td>\n",
              "      <td>85.71</td>\n",
              "      <td>1</td>\n",
              "      <td>v West Indies</td>\n",
              "      <td>Christchurch</td>\n",
              "      <td>2009-03-01</td>\n",
              "      <td>New Zealand</td>\n",
              "      <td>0.0</td>\n",
              "      <td>0.0</td>\n",
              "      <td>0-49</td>\n",
              "      <td>NaN</td>\n",
              "      <td>NaN</td>\n",
              "      <td>NaN</td>\n",
              "      <td>NaN</td>\n",
              "      <td>NaN</td>\n",
              "      <td>NaN</td>\n",
              "      <td>NaN</td>\n",
              "      <td>NaN</td>\n",
              "      <td>NaN</td>\n",
              "      <td>NaN</td>\n",
              "      <td>2009</td>\n",
              "    </tr>\n",
              "    <tr>\n",
              "      <th>55612</th>\n",
              "      <td>DR Flynn</td>\n",
              "      <td>4</td>\n",
              "      <td>4</td>\n",
              "      <td>6</td>\n",
              "      <td>1.0</td>\n",
              "      <td>0.0</td>\n",
              "      <td>5</td>\n",
              "      <td>0</td>\n",
              "      <td>0</td>\n",
              "      <td>80</td>\n",
              "      <td>1</td>\n",
              "      <td>v West Indies</td>\n",
              "      <td>Christchurch</td>\n",
              "      <td>2009-03-01</td>\n",
              "      <td>New Zealand</td>\n",
              "      <td>0.0</td>\n",
              "      <td>0.0</td>\n",
              "      <td>0-49</td>\n",
              "      <td>NaN</td>\n",
              "      <td>NaN</td>\n",
              "      <td>NaN</td>\n",
              "      <td>NaN</td>\n",
              "      <td>NaN</td>\n",
              "      <td>NaN</td>\n",
              "      <td>NaN</td>\n",
              "      <td>NaN</td>\n",
              "      <td>NaN</td>\n",
              "      <td>NaN</td>\n",
              "      <td>2009</td>\n",
              "    </tr>\n",
              "    <tr>\n",
              "      <th>55613</th>\n",
              "      <td>BB McCullum</td>\n",
              "      <td>1</td>\n",
              "      <td>1</td>\n",
              "      <td>10</td>\n",
              "      <td>1.0</td>\n",
              "      <td>0.0</td>\n",
              "      <td>2</td>\n",
              "      <td>0</td>\n",
              "      <td>0</td>\n",
              "      <td>50</td>\n",
              "      <td>1</td>\n",
              "      <td>v West Indies</td>\n",
              "      <td>Christchurch</td>\n",
              "      <td>2009-03-01</td>\n",
              "      <td>New Zealand</td>\n",
              "      <td>0.0</td>\n",
              "      <td>0.0</td>\n",
              "      <td>0-49</td>\n",
              "      <td>NaN</td>\n",
              "      <td>NaN</td>\n",
              "      <td>NaN</td>\n",
              "      <td>NaN</td>\n",
              "      <td>NaN</td>\n",
              "      <td>NaN</td>\n",
              "      <td>NaN</td>\n",
              "      <td>NaN</td>\n",
              "      <td>NaN</td>\n",
              "      <td>NaN</td>\n",
              "      <td>2009</td>\n",
              "    </tr>\n",
              "    <tr>\n",
              "      <th>55614</th>\n",
              "      <td>DL Vettori</td>\n",
              "      <td>0</td>\n",
              "      <td>0</td>\n",
              "      <td>2</td>\n",
              "      <td>1.0</td>\n",
              "      <td>0.0</td>\n",
              "      <td>1</td>\n",
              "      <td>0</td>\n",
              "      <td>0</td>\n",
              "      <td>0</td>\n",
              "      <td>1</td>\n",
              "      <td>v West Indies</td>\n",
              "      <td>Christchurch</td>\n",
              "      <td>2009-03-01</td>\n",
              "      <td>New Zealand</td>\n",
              "      <td>0.0</td>\n",
              "      <td>0.0</td>\n",
              "      <td>0-49</td>\n",
              "      <td>NaN</td>\n",
              "      <td>NaN</td>\n",
              "      <td>NaN</td>\n",
              "      <td>NaN</td>\n",
              "      <td>NaN</td>\n",
              "      <td>NaN</td>\n",
              "      <td>NaN</td>\n",
              "      <td>NaN</td>\n",
              "      <td>NaN</td>\n",
              "      <td>NaN</td>\n",
              "      <td>2009</td>\n",
              "    </tr>\n",
              "  </tbody>\n",
              "</table>\n",
              "<p>22032 rows × 29 columns</p>\n",
              "</div>"
            ],
            "text/plain": [
              "      Innings Player Innings Runs Scored  ...  Innings Economy Rate  year\n",
              "0            E Lewis                  65  ...                   NaN  2019\n",
              "1           N Pooran                  42  ...                   NaN  2019\n",
              "2         SO Hetmyer                  18  ...                   NaN  2019\n",
              "3           RL Chase                  18  ...                   NaN  2019\n",
              "4        SS Cottrell                  17  ...                   NaN  2019\n",
              "...              ...                 ...  ...                   ...   ...\n",
              "55610     TG Southee                  6*  ...                   NaN  2009\n",
              "55611       KD Mills                   6  ...                   NaN  2009\n",
              "55612       DR Flynn                   4  ...                   NaN  2009\n",
              "55613    BB McCullum                   1  ...                   NaN  2009\n",
              "55614     DL Vettori                   0  ...                   NaN  2009\n",
              "\n",
              "[22032 rows x 29 columns]"
            ]
          },
          "metadata": {},
          "execution_count": 194
        }
      ]
    },
    {
      "cell_type": "markdown",
      "metadata": {
        "id": "GCo4Yi0we1dB"
      },
      "source": [
        "Sachin data"
      ]
    },
    {
      "cell_type": "code",
      "metadata": {
        "colab": {
          "base_uri": "https://localhost:8080/",
          "height": 660
        },
        "id": "ZNzMiy6Pes-2",
        "outputId": "868fef26-e6c8-465c-e5fc-2c3bc6e6aa54"
      },
      "source": [
        "s_df=sachin[(sachin[\"Innings Player\"]==\"SR Tendulkar\")]\n",
        "s_df"
      ],
      "execution_count": null,
      "outputs": [
        {
          "output_type": "execute_result",
          "data": {
            "text/html": [
              "<div>\n",
              "<style scoped>\n",
              "    .dataframe tbody tr th:only-of-type {\n",
              "        vertical-align: middle;\n",
              "    }\n",
              "\n",
              "    .dataframe tbody tr th {\n",
              "        vertical-align: top;\n",
              "    }\n",
              "\n",
              "    .dataframe thead th {\n",
              "        text-align: right;\n",
              "    }\n",
              "</style>\n",
              "<table border=\"1\" class=\"dataframe\">\n",
              "  <thead>\n",
              "    <tr style=\"text-align: right;\">\n",
              "      <th></th>\n",
              "      <th>Innings Player</th>\n",
              "      <th>Innings Runs Scored</th>\n",
              "      <th>Innings Runs Scored Num</th>\n",
              "      <th>Innings Minutes Batted</th>\n",
              "      <th>Innings Batted Flag</th>\n",
              "      <th>Innings Not Out Flag</th>\n",
              "      <th>Innings Balls Faced</th>\n",
              "      <th>Innings Boundary Fours</th>\n",
              "      <th>Innings Boundary Sixes</th>\n",
              "      <th>Innings Batting Strike Rate</th>\n",
              "      <th>Innings Number</th>\n",
              "      <th>Opposition</th>\n",
              "      <th>Ground</th>\n",
              "      <th>Innings Date</th>\n",
              "      <th>Country</th>\n",
              "      <th>50's</th>\n",
              "      <th>100's</th>\n",
              "      <th>Innings Runs Scored Buckets</th>\n",
              "      <th>Innings Overs Bowled</th>\n",
              "      <th>Innings Bowled Flag</th>\n",
              "      <th>Innings Maidens Bowled</th>\n",
              "      <th>Innings Runs Conceded</th>\n",
              "      <th>Innings Wickets Taken</th>\n",
              "      <th>4 Wickets</th>\n",
              "      <th>5 Wickets</th>\n",
              "      <th>10 Wickets</th>\n",
              "      <th>Innings Wickets Taken Buckets</th>\n",
              "      <th>Innings Economy Rate</th>\n",
              "      <th>year</th>\n",
              "    </tr>\n",
              "  </thead>\n",
              "  <tbody>\n",
              "    <tr>\n",
              "      <th>77614</th>\n",
              "      <td>SR Tendulkar</td>\n",
              "      <td>47</td>\n",
              "      <td>47</td>\n",
              "      <td>60</td>\n",
              "      <td>1.0</td>\n",
              "      <td>0.0</td>\n",
              "      <td>42</td>\n",
              "      <td>9</td>\n",
              "      <td>0</td>\n",
              "      <td>111.9</td>\n",
              "      <td>1</td>\n",
              "      <td>v Bangladesh</td>\n",
              "      <td>Dhaka</td>\n",
              "      <td>2004-12-27</td>\n",
              "      <td>India</td>\n",
              "      <td>0.0</td>\n",
              "      <td>0.0</td>\n",
              "      <td>0-49</td>\n",
              "      <td>NaN</td>\n",
              "      <td>NaN</td>\n",
              "      <td>NaN</td>\n",
              "      <td>NaN</td>\n",
              "      <td>NaN</td>\n",
              "      <td>NaN</td>\n",
              "      <td>NaN</td>\n",
              "      <td>NaN</td>\n",
              "      <td>NaN</td>\n",
              "      <td>NaN</td>\n",
              "      <td>2004</td>\n",
              "    </tr>\n",
              "    <tr>\n",
              "      <th>77747</th>\n",
              "      <td>SR Tendulkar</td>\n",
              "      <td>19</td>\n",
              "      <td>19</td>\n",
              "      <td>46</td>\n",
              "      <td>1.0</td>\n",
              "      <td>0.0</td>\n",
              "      <td>32</td>\n",
              "      <td>3</td>\n",
              "      <td>0</td>\n",
              "      <td>59.37</td>\n",
              "      <td>1</td>\n",
              "      <td>v Bangladesh</td>\n",
              "      <td>Chattogram</td>\n",
              "      <td>2004-12-23</td>\n",
              "      <td>India</td>\n",
              "      <td>0.0</td>\n",
              "      <td>0.0</td>\n",
              "      <td>0-49</td>\n",
              "      <td>NaN</td>\n",
              "      <td>NaN</td>\n",
              "      <td>NaN</td>\n",
              "      <td>NaN</td>\n",
              "      <td>NaN</td>\n",
              "      <td>NaN</td>\n",
              "      <td>NaN</td>\n",
              "      <td>NaN</td>\n",
              "      <td>NaN</td>\n",
              "      <td>NaN</td>\n",
              "      <td>2004</td>\n",
              "    </tr>\n",
              "    <tr>\n",
              "      <th>78054</th>\n",
              "      <td>SR Tendulkar</td>\n",
              "      <td>16</td>\n",
              "      <td>16</td>\n",
              "      <td>30</td>\n",
              "      <td>1.0</td>\n",
              "      <td>0.0</td>\n",
              "      <td>17</td>\n",
              "      <td>2</td>\n",
              "      <td>0</td>\n",
              "      <td>94.11</td>\n",
              "      <td>1</td>\n",
              "      <td>v Pakistan</td>\n",
              "      <td>Kolkata</td>\n",
              "      <td>2004-11-13</td>\n",
              "      <td>India</td>\n",
              "      <td>0.0</td>\n",
              "      <td>0.0</td>\n",
              "      <td>0-49</td>\n",
              "      <td>NaN</td>\n",
              "      <td>NaN</td>\n",
              "      <td>NaN</td>\n",
              "      <td>NaN</td>\n",
              "      <td>NaN</td>\n",
              "      <td>NaN</td>\n",
              "      <td>NaN</td>\n",
              "      <td>NaN</td>\n",
              "      <td>NaN</td>\n",
              "      <td>NaN</td>\n",
              "      <td>2004</td>\n",
              "    </tr>\n",
              "    <tr>\n",
              "      <th>79590</th>\n",
              "      <td>SR Tendulkar</td>\n",
              "      <td>74</td>\n",
              "      <td>74</td>\n",
              "      <td>170</td>\n",
              "      <td>1.0</td>\n",
              "      <td>0.0</td>\n",
              "      <td>100</td>\n",
              "      <td>7</td>\n",
              "      <td>1</td>\n",
              "      <td>74</td>\n",
              "      <td>2</td>\n",
              "      <td>v Sri Lanka</td>\n",
              "      <td>Colombo (RPS)</td>\n",
              "      <td>2004-01-08</td>\n",
              "      <td>India</td>\n",
              "      <td>1.0</td>\n",
              "      <td>0.0</td>\n",
              "      <td>50-99</td>\n",
              "      <td>NaN</td>\n",
              "      <td>NaN</td>\n",
              "      <td>NaN</td>\n",
              "      <td>NaN</td>\n",
              "      <td>NaN</td>\n",
              "      <td>NaN</td>\n",
              "      <td>NaN</td>\n",
              "      <td>NaN</td>\n",
              "      <td>NaN</td>\n",
              "      <td>NaN</td>\n",
              "      <td>2004</td>\n",
              "    </tr>\n",
              "    <tr>\n",
              "      <th>79681</th>\n",
              "      <td>SR Tendulkar</td>\n",
              "      <td>18</td>\n",
              "      <td>18</td>\n",
              "      <td>30</td>\n",
              "      <td>1.0</td>\n",
              "      <td>0.0</td>\n",
              "      <td>21</td>\n",
              "      <td>3</td>\n",
              "      <td>0</td>\n",
              "      <td>85.71</td>\n",
              "      <td>1</td>\n",
              "      <td>v Sri Lanka</td>\n",
              "      <td>Colombo (RPS)</td>\n",
              "      <td>2004-07-27</td>\n",
              "      <td>India</td>\n",
              "      <td>0.0</td>\n",
              "      <td>0.0</td>\n",
              "      <td>0-49</td>\n",
              "      <td>NaN</td>\n",
              "      <td>NaN</td>\n",
              "      <td>NaN</td>\n",
              "      <td>NaN</td>\n",
              "      <td>NaN</td>\n",
              "      <td>NaN</td>\n",
              "      <td>NaN</td>\n",
              "      <td>NaN</td>\n",
              "      <td>NaN</td>\n",
              "      <td>NaN</td>\n",
              "      <td>2004</td>\n",
              "    </tr>\n",
              "    <tr>\n",
              "      <th>...</th>\n",
              "      <td>...</td>\n",
              "      <td>...</td>\n",
              "      <td>...</td>\n",
              "      <td>...</td>\n",
              "      <td>...</td>\n",
              "      <td>...</td>\n",
              "      <td>...</td>\n",
              "      <td>...</td>\n",
              "      <td>...</td>\n",
              "      <td>...</td>\n",
              "      <td>...</td>\n",
              "      <td>...</td>\n",
              "      <td>...</td>\n",
              "      <td>...</td>\n",
              "      <td>...</td>\n",
              "      <td>...</td>\n",
              "      <td>...</td>\n",
              "      <td>...</td>\n",
              "      <td>...</td>\n",
              "      <td>...</td>\n",
              "      <td>...</td>\n",
              "      <td>...</td>\n",
              "      <td>...</td>\n",
              "      <td>...</td>\n",
              "      <td>...</td>\n",
              "      <td>...</td>\n",
              "      <td>...</td>\n",
              "      <td>...</td>\n",
              "      <td>...</td>\n",
              "    </tr>\n",
              "    <tr>\n",
              "      <th>132643</th>\n",
              "      <td>SR Tendulkar</td>\n",
              "      <td>82</td>\n",
              "      <td>82</td>\n",
              "      <td>69</td>\n",
              "      <td>1.0</td>\n",
              "      <td>0.0</td>\n",
              "      <td>49</td>\n",
              "      <td>15</td>\n",
              "      <td>2</td>\n",
              "      <td>167.34</td>\n",
              "      <td>2</td>\n",
              "      <td>v New Zealand</td>\n",
              "      <td>Auckland</td>\n",
              "      <td>1994-03-27</td>\n",
              "      <td>India</td>\n",
              "      <td>1.0</td>\n",
              "      <td>0.0</td>\n",
              "      <td>50-99</td>\n",
              "      <td>NaN</td>\n",
              "      <td>NaN</td>\n",
              "      <td>NaN</td>\n",
              "      <td>NaN</td>\n",
              "      <td>NaN</td>\n",
              "      <td>NaN</td>\n",
              "      <td>NaN</td>\n",
              "      <td>NaN</td>\n",
              "      <td>NaN</td>\n",
              "      <td>NaN</td>\n",
              "      <td>1994</td>\n",
              "    </tr>\n",
              "    <tr>\n",
              "      <th>132692</th>\n",
              "      <td>SR Tendulkar</td>\n",
              "      <td>15</td>\n",
              "      <td>15</td>\n",
              "      <td>22</td>\n",
              "      <td>1.0</td>\n",
              "      <td>0.0</td>\n",
              "      <td>19</td>\n",
              "      <td>1</td>\n",
              "      <td>0</td>\n",
              "      <td>78.94</td>\n",
              "      <td>2</td>\n",
              "      <td>v New Zealand</td>\n",
              "      <td>Napier</td>\n",
              "      <td>1994-03-25</td>\n",
              "      <td>India</td>\n",
              "      <td>0.0</td>\n",
              "      <td>0.0</td>\n",
              "      <td>0-49</td>\n",
              "      <td>NaN</td>\n",
              "      <td>NaN</td>\n",
              "      <td>NaN</td>\n",
              "      <td>NaN</td>\n",
              "      <td>NaN</td>\n",
              "      <td>NaN</td>\n",
              "      <td>NaN</td>\n",
              "      <td>NaN</td>\n",
              "      <td>NaN</td>\n",
              "      <td>NaN</td>\n",
              "      <td>1994</td>\n",
              "    </tr>\n",
              "    <tr>\n",
              "      <th>133226</th>\n",
              "      <td>SR Tendulkar</td>\n",
              "      <td>52</td>\n",
              "      <td>52</td>\n",
              "      <td>83</td>\n",
              "      <td>1.0</td>\n",
              "      <td>0.0</td>\n",
              "      <td>63</td>\n",
              "      <td>3</td>\n",
              "      <td>0</td>\n",
              "      <td>82.53</td>\n",
              "      <td>1</td>\n",
              "      <td>v Sri Lanka</td>\n",
              "      <td>Jalandhar</td>\n",
              "      <td>1994-02-20</td>\n",
              "      <td>India</td>\n",
              "      <td>1.0</td>\n",
              "      <td>0.0</td>\n",
              "      <td>50-99</td>\n",
              "      <td>NaN</td>\n",
              "      <td>NaN</td>\n",
              "      <td>NaN</td>\n",
              "      <td>NaN</td>\n",
              "      <td>NaN</td>\n",
              "      <td>NaN</td>\n",
              "      <td>NaN</td>\n",
              "      <td>NaN</td>\n",
              "      <td>NaN</td>\n",
              "      <td>NaN</td>\n",
              "      <td>1994</td>\n",
              "    </tr>\n",
              "    <tr>\n",
              "      <th>133340</th>\n",
              "      <td>SR Tendulkar</td>\n",
              "      <td>11*</td>\n",
              "      <td>11</td>\n",
              "      <td>25</td>\n",
              "      <td>1.0</td>\n",
              "      <td>1.0</td>\n",
              "      <td>18</td>\n",
              "      <td>0</td>\n",
              "      <td>0</td>\n",
              "      <td>61.11</td>\n",
              "      <td>2</td>\n",
              "      <td>v Sri Lanka</td>\n",
              "      <td>Hyderabad (Deccan)</td>\n",
              "      <td>1994-02-18</td>\n",
              "      <td>India</td>\n",
              "      <td>0.0</td>\n",
              "      <td>0.0</td>\n",
              "      <td>0-49</td>\n",
              "      <td>NaN</td>\n",
              "      <td>NaN</td>\n",
              "      <td>NaN</td>\n",
              "      <td>NaN</td>\n",
              "      <td>NaN</td>\n",
              "      <td>NaN</td>\n",
              "      <td>NaN</td>\n",
              "      <td>NaN</td>\n",
              "      <td>NaN</td>\n",
              "      <td>NaN</td>\n",
              "      <td>1994</td>\n",
              "    </tr>\n",
              "    <tr>\n",
              "      <th>133430</th>\n",
              "      <td>SR Tendulkar</td>\n",
              "      <td>1</td>\n",
              "      <td>1</td>\n",
              "      <td>10</td>\n",
              "      <td>1.0</td>\n",
              "      <td>0.0</td>\n",
              "      <td>5</td>\n",
              "      <td>0</td>\n",
              "      <td>0</td>\n",
              "      <td>20</td>\n",
              "      <td>1</td>\n",
              "      <td>v Sri Lanka</td>\n",
              "      <td>Rajkot</td>\n",
              "      <td>1994-02-15</td>\n",
              "      <td>India</td>\n",
              "      <td>0.0</td>\n",
              "      <td>0.0</td>\n",
              "      <td>0-49</td>\n",
              "      <td>NaN</td>\n",
              "      <td>NaN</td>\n",
              "      <td>NaN</td>\n",
              "      <td>NaN</td>\n",
              "      <td>NaN</td>\n",
              "      <td>NaN</td>\n",
              "      <td>NaN</td>\n",
              "      <td>NaN</td>\n",
              "      <td>NaN</td>\n",
              "      <td>NaN</td>\n",
              "      <td>1994</td>\n",
              "    </tr>\n",
              "  </tbody>\n",
              "</table>\n",
              "<p>271 rows × 29 columns</p>\n",
              "</div>"
            ],
            "text/plain": [
              "       Innings Player Innings Runs Scored  ...  Innings Economy Rate  year\n",
              "77614    SR Tendulkar                  47  ...                   NaN  2004\n",
              "77747    SR Tendulkar                  19  ...                   NaN  2004\n",
              "78054    SR Tendulkar                  16  ...                   NaN  2004\n",
              "79590    SR Tendulkar                  74  ...                   NaN  2004\n",
              "79681    SR Tendulkar                  18  ...                   NaN  2004\n",
              "...               ...                 ...  ...                   ...   ...\n",
              "132643   SR Tendulkar                  82  ...                   NaN  1994\n",
              "132692   SR Tendulkar                  15  ...                   NaN  1994\n",
              "133226   SR Tendulkar                  52  ...                   NaN  1994\n",
              "133340   SR Tendulkar                 11*  ...                   NaN  1994\n",
              "133430   SR Tendulkar                   1  ...                   NaN  1994\n",
              "\n",
              "[271 rows x 29 columns]"
            ]
          },
          "metadata": {},
          "execution_count": 195
        }
      ]
    },
    {
      "cell_type": "markdown",
      "metadata": {
        "id": "lTYNetlVhaXa"
      },
      "source": [
        "Kohli data"
      ]
    },
    {
      "cell_type": "code",
      "metadata": {
        "colab": {
          "base_uri": "https://localhost:8080/",
          "height": 660
        },
        "id": "ko7hiKXse_Pu",
        "outputId": "f2d7160b-d419-4152-c345-5e20893ecc34"
      },
      "source": [
        "k_df=kohli[(kohli['Innings Player']==\"V Kohli\")]\n",
        "k_df"
      ],
      "execution_count": null,
      "outputs": [
        {
          "output_type": "execute_result",
          "data": {
            "text/html": [
              "<div>\n",
              "<style scoped>\n",
              "    .dataframe tbody tr th:only-of-type {\n",
              "        vertical-align: middle;\n",
              "    }\n",
              "\n",
              "    .dataframe tbody tr th {\n",
              "        vertical-align: top;\n",
              "    }\n",
              "\n",
              "    .dataframe thead th {\n",
              "        text-align: right;\n",
              "    }\n",
              "</style>\n",
              "<table border=\"1\" class=\"dataframe\">\n",
              "  <thead>\n",
              "    <tr style=\"text-align: right;\">\n",
              "      <th></th>\n",
              "      <th>Innings Player</th>\n",
              "      <th>Innings Runs Scored</th>\n",
              "      <th>Innings Runs Scored Num</th>\n",
              "      <th>Innings Minutes Batted</th>\n",
              "      <th>Innings Batted Flag</th>\n",
              "      <th>Innings Not Out Flag</th>\n",
              "      <th>Innings Balls Faced</th>\n",
              "      <th>Innings Boundary Fours</th>\n",
              "      <th>Innings Boundary Sixes</th>\n",
              "      <th>Innings Batting Strike Rate</th>\n",
              "      <th>Innings Number</th>\n",
              "      <th>Opposition</th>\n",
              "      <th>Ground</th>\n",
              "      <th>Innings Date</th>\n",
              "      <th>Country</th>\n",
              "      <th>50's</th>\n",
              "      <th>100's</th>\n",
              "      <th>Innings Runs Scored Buckets</th>\n",
              "      <th>Innings Overs Bowled</th>\n",
              "      <th>Innings Bowled Flag</th>\n",
              "      <th>Innings Maidens Bowled</th>\n",
              "      <th>Innings Runs Conceded</th>\n",
              "      <th>Innings Wickets Taken</th>\n",
              "      <th>4 Wickets</th>\n",
              "      <th>5 Wickets</th>\n",
              "      <th>10 Wickets</th>\n",
              "      <th>Innings Wickets Taken Buckets</th>\n",
              "      <th>Innings Economy Rate</th>\n",
              "      <th>year</th>\n",
              "    </tr>\n",
              "  </thead>\n",
              "  <tbody>\n",
              "    <tr>\n",
              "      <th>11</th>\n",
              "      <td>V Kohli</td>\n",
              "      <td>120</td>\n",
              "      <td>120</td>\n",
              "      <td>179</td>\n",
              "      <td>1.0</td>\n",
              "      <td>0.0</td>\n",
              "      <td>125</td>\n",
              "      <td>14</td>\n",
              "      <td>1</td>\n",
              "      <td>96</td>\n",
              "      <td>1</td>\n",
              "      <td>v West Indies</td>\n",
              "      <td>Port of Spain</td>\n",
              "      <td>2019-11-08</td>\n",
              "      <td>India</td>\n",
              "      <td>0.0</td>\n",
              "      <td>1.0</td>\n",
              "      <td>100-149</td>\n",
              "      <td>NaN</td>\n",
              "      <td>NaN</td>\n",
              "      <td>NaN</td>\n",
              "      <td>NaN</td>\n",
              "      <td>NaN</td>\n",
              "      <td>NaN</td>\n",
              "      <td>NaN</td>\n",
              "      <td>NaN</td>\n",
              "      <td>NaN</td>\n",
              "      <td>NaN</td>\n",
              "      <td>2019</td>\n",
              "    </tr>\n",
              "    <tr>\n",
              "      <th>327</th>\n",
              "      <td>V Kohli</td>\n",
              "      <td>1</td>\n",
              "      <td>1</td>\n",
              "      <td>8</td>\n",
              "      <td>1.0</td>\n",
              "      <td>0.0</td>\n",
              "      <td>6</td>\n",
              "      <td>0</td>\n",
              "      <td>0</td>\n",
              "      <td>16.66</td>\n",
              "      <td>2</td>\n",
              "      <td>v New Zealand</td>\n",
              "      <td>Manchester</td>\n",
              "      <td>2019-09-07</td>\n",
              "      <td>India</td>\n",
              "      <td>0.0</td>\n",
              "      <td>0.0</td>\n",
              "      <td>0-49</td>\n",
              "      <td>NaN</td>\n",
              "      <td>NaN</td>\n",
              "      <td>NaN</td>\n",
              "      <td>NaN</td>\n",
              "      <td>NaN</td>\n",
              "      <td>NaN</td>\n",
              "      <td>NaN</td>\n",
              "      <td>NaN</td>\n",
              "      <td>NaN</td>\n",
              "      <td>NaN</td>\n",
              "      <td>2019</td>\n",
              "    </tr>\n",
              "    <tr>\n",
              "      <th>420</th>\n",
              "      <td>V Kohli</td>\n",
              "      <td>34*</td>\n",
              "      <td>34</td>\n",
              "      <td>61</td>\n",
              "      <td>1.0</td>\n",
              "      <td>1.0</td>\n",
              "      <td>41</td>\n",
              "      <td>3</td>\n",
              "      <td>0</td>\n",
              "      <td>82.92</td>\n",
              "      <td>2</td>\n",
              "      <td>v Sri Lanka</td>\n",
              "      <td>Leeds</td>\n",
              "      <td>2019-06-07</td>\n",
              "      <td>India</td>\n",
              "      <td>0.0</td>\n",
              "      <td>0.0</td>\n",
              "      <td>0-49</td>\n",
              "      <td>NaN</td>\n",
              "      <td>NaN</td>\n",
              "      <td>NaN</td>\n",
              "      <td>NaN</td>\n",
              "      <td>NaN</td>\n",
              "      <td>NaN</td>\n",
              "      <td>NaN</td>\n",
              "      <td>NaN</td>\n",
              "      <td>NaN</td>\n",
              "      <td>NaN</td>\n",
              "      <td>2019</td>\n",
              "    </tr>\n",
              "    <tr>\n",
              "      <th>664</th>\n",
              "      <td>V Kohli</td>\n",
              "      <td>26</td>\n",
              "      <td>26</td>\n",
              "      <td>45</td>\n",
              "      <td>1.0</td>\n",
              "      <td>0.0</td>\n",
              "      <td>27</td>\n",
              "      <td>3</td>\n",
              "      <td>0</td>\n",
              "      <td>96.29</td>\n",
              "      <td>1</td>\n",
              "      <td>v Bangladesh</td>\n",
              "      <td>Birmingham</td>\n",
              "      <td>2019-02-07</td>\n",
              "      <td>India</td>\n",
              "      <td>0.0</td>\n",
              "      <td>0.0</td>\n",
              "      <td>0-49</td>\n",
              "      <td>NaN</td>\n",
              "      <td>NaN</td>\n",
              "      <td>NaN</td>\n",
              "      <td>NaN</td>\n",
              "      <td>NaN</td>\n",
              "      <td>NaN</td>\n",
              "      <td>NaN</td>\n",
              "      <td>NaN</td>\n",
              "      <td>NaN</td>\n",
              "      <td>NaN</td>\n",
              "      <td>2019</td>\n",
              "    </tr>\n",
              "    <tr>\n",
              "      <th>804</th>\n",
              "      <td>V Kohli</td>\n",
              "      <td>66</td>\n",
              "      <td>66</td>\n",
              "      <td>103</td>\n",
              "      <td>1.0</td>\n",
              "      <td>0.0</td>\n",
              "      <td>76</td>\n",
              "      <td>7</td>\n",
              "      <td>0</td>\n",
              "      <td>86.84</td>\n",
              "      <td>2</td>\n",
              "      <td>v England</td>\n",
              "      <td>Birmingham</td>\n",
              "      <td>2019-06-30</td>\n",
              "      <td>India</td>\n",
              "      <td>1.0</td>\n",
              "      <td>0.0</td>\n",
              "      <td>50-99</td>\n",
              "      <td>NaN</td>\n",
              "      <td>NaN</td>\n",
              "      <td>NaN</td>\n",
              "      <td>NaN</td>\n",
              "      <td>NaN</td>\n",
              "      <td>NaN</td>\n",
              "      <td>NaN</td>\n",
              "      <td>NaN</td>\n",
              "      <td>NaN</td>\n",
              "      <td>NaN</td>\n",
              "      <td>2019</td>\n",
              "    </tr>\n",
              "    <tr>\n",
              "      <th>...</th>\n",
              "      <td>...</td>\n",
              "      <td>...</td>\n",
              "      <td>...</td>\n",
              "      <td>...</td>\n",
              "      <td>...</td>\n",
              "      <td>...</td>\n",
              "      <td>...</td>\n",
              "      <td>...</td>\n",
              "      <td>...</td>\n",
              "      <td>...</td>\n",
              "      <td>...</td>\n",
              "      <td>...</td>\n",
              "      <td>...</td>\n",
              "      <td>...</td>\n",
              "      <td>...</td>\n",
              "      <td>...</td>\n",
              "      <td>...</td>\n",
              "      <td>...</td>\n",
              "      <td>...</td>\n",
              "      <td>...</td>\n",
              "      <td>...</td>\n",
              "      <td>...</td>\n",
              "      <td>...</td>\n",
              "      <td>...</td>\n",
              "      <td>...</td>\n",
              "      <td>...</td>\n",
              "      <td>...</td>\n",
              "      <td>...</td>\n",
              "      <td>...</td>\n",
              "    </tr>\n",
              "    <tr>\n",
              "      <th>50706</th>\n",
              "      <td>V Kohli</td>\n",
              "      <td>10</td>\n",
              "      <td>10</td>\n",
              "      <td>32</td>\n",
              "      <td>1.0</td>\n",
              "      <td>0.0</td>\n",
              "      <td>16</td>\n",
              "      <td>1</td>\n",
              "      <td>0</td>\n",
              "      <td>62.5</td>\n",
              "      <td>2</td>\n",
              "      <td>v Australia</td>\n",
              "      <td>Mohali</td>\n",
              "      <td>2009-02-11</td>\n",
              "      <td>India</td>\n",
              "      <td>0.0</td>\n",
              "      <td>0.0</td>\n",
              "      <td>0-49</td>\n",
              "      <td>NaN</td>\n",
              "      <td>NaN</td>\n",
              "      <td>NaN</td>\n",
              "      <td>NaN</td>\n",
              "      <td>NaN</td>\n",
              "      <td>NaN</td>\n",
              "      <td>NaN</td>\n",
              "      <td>NaN</td>\n",
              "      <td>NaN</td>\n",
              "      <td>NaN</td>\n",
              "      <td>2009</td>\n",
              "    </tr>\n",
              "    <tr>\n",
              "      <th>50967</th>\n",
              "      <td>V Kohli</td>\n",
              "      <td>30</td>\n",
              "      <td>30</td>\n",
              "      <td>53</td>\n",
              "      <td>1.0</td>\n",
              "      <td>0.0</td>\n",
              "      <td>41</td>\n",
              "      <td>3</td>\n",
              "      <td>0</td>\n",
              "      <td>73.17</td>\n",
              "      <td>2</td>\n",
              "      <td>v Australia</td>\n",
              "      <td>Vadodara</td>\n",
              "      <td>2009-10-25</td>\n",
              "      <td>India</td>\n",
              "      <td>0.0</td>\n",
              "      <td>0.0</td>\n",
              "      <td>0-49</td>\n",
              "      <td>NaN</td>\n",
              "      <td>NaN</td>\n",
              "      <td>NaN</td>\n",
              "      <td>NaN</td>\n",
              "      <td>NaN</td>\n",
              "      <td>NaN</td>\n",
              "      <td>NaN</td>\n",
              "      <td>NaN</td>\n",
              "      <td>NaN</td>\n",
              "      <td>NaN</td>\n",
              "      <td>2009</td>\n",
              "    </tr>\n",
              "    <tr>\n",
              "      <th>51260</th>\n",
              "      <td>V Kohli</td>\n",
              "      <td>79*</td>\n",
              "      <td>79</td>\n",
              "      <td>121</td>\n",
              "      <td>1.0</td>\n",
              "      <td>1.0</td>\n",
              "      <td>104</td>\n",
              "      <td>9</td>\n",
              "      <td>2</td>\n",
              "      <td>75.96</td>\n",
              "      <td>2</td>\n",
              "      <td>v West Indies</td>\n",
              "      <td>Johannesburg</td>\n",
              "      <td>2009-09-30</td>\n",
              "      <td>India</td>\n",
              "      <td>1.0</td>\n",
              "      <td>0.0</td>\n",
              "      <td>50-99</td>\n",
              "      <td>NaN</td>\n",
              "      <td>NaN</td>\n",
              "      <td>NaN</td>\n",
              "      <td>NaN</td>\n",
              "      <td>NaN</td>\n",
              "      <td>NaN</td>\n",
              "      <td>NaN</td>\n",
              "      <td>NaN</td>\n",
              "      <td>NaN</td>\n",
              "      <td>NaN</td>\n",
              "      <td>2009</td>\n",
              "    </tr>\n",
              "    <tr>\n",
              "      <th>51527</th>\n",
              "      <td>V Kohli</td>\n",
              "      <td>16</td>\n",
              "      <td>16</td>\n",
              "      <td>28</td>\n",
              "      <td>1.0</td>\n",
              "      <td>0.0</td>\n",
              "      <td>24</td>\n",
              "      <td>1</td>\n",
              "      <td>0</td>\n",
              "      <td>66.66</td>\n",
              "      <td>2</td>\n",
              "      <td>v Pakistan</td>\n",
              "      <td>Centurion</td>\n",
              "      <td>2009-09-26</td>\n",
              "      <td>India</td>\n",
              "      <td>0.0</td>\n",
              "      <td>0.0</td>\n",
              "      <td>0-49</td>\n",
              "      <td>NaN</td>\n",
              "      <td>NaN</td>\n",
              "      <td>NaN</td>\n",
              "      <td>NaN</td>\n",
              "      <td>NaN</td>\n",
              "      <td>NaN</td>\n",
              "      <td>NaN</td>\n",
              "      <td>NaN</td>\n",
              "      <td>NaN</td>\n",
              "      <td>NaN</td>\n",
              "      <td>2009</td>\n",
              "    </tr>\n",
              "    <tr>\n",
              "      <th>51903</th>\n",
              "      <td>V Kohli</td>\n",
              "      <td>2*</td>\n",
              "      <td>2</td>\n",
              "      <td>6</td>\n",
              "      <td>1.0</td>\n",
              "      <td>1.0</td>\n",
              "      <td>2</td>\n",
              "      <td>0</td>\n",
              "      <td>0</td>\n",
              "      <td>100</td>\n",
              "      <td>1</td>\n",
              "      <td>v Sri Lanka</td>\n",
              "      <td>Colombo (RPS)</td>\n",
              "      <td>2009-09-14</td>\n",
              "      <td>India</td>\n",
              "      <td>0.0</td>\n",
              "      <td>0.0</td>\n",
              "      <td>0-49</td>\n",
              "      <td>NaN</td>\n",
              "      <td>NaN</td>\n",
              "      <td>NaN</td>\n",
              "      <td>NaN</td>\n",
              "      <td>NaN</td>\n",
              "      <td>NaN</td>\n",
              "      <td>NaN</td>\n",
              "      <td>NaN</td>\n",
              "      <td>NaN</td>\n",
              "      <td>NaN</td>\n",
              "      <td>2009</td>\n",
              "    </tr>\n",
              "  </tbody>\n",
              "</table>\n",
              "<p>224 rows × 29 columns</p>\n",
              "</div>"
            ],
            "text/plain": [
              "      Innings Player Innings Runs Scored  ...  Innings Economy Rate  year\n",
              "11           V Kohli                 120  ...                   NaN  2019\n",
              "327          V Kohli                   1  ...                   NaN  2019\n",
              "420          V Kohli                 34*  ...                   NaN  2019\n",
              "664          V Kohli                  26  ...                   NaN  2019\n",
              "804          V Kohli                  66  ...                   NaN  2019\n",
              "...              ...                 ...  ...                   ...   ...\n",
              "50706        V Kohli                  10  ...                   NaN  2009\n",
              "50967        V Kohli                  30  ...                   NaN  2009\n",
              "51260        V Kohli                 79*  ...                   NaN  2009\n",
              "51527        V Kohli                  16  ...                   NaN  2009\n",
              "51903        V Kohli                  2*  ...                   NaN  2009\n",
              "\n",
              "[224 rows x 29 columns]"
            ]
          },
          "metadata": {},
          "execution_count": 196
        }
      ]
    },
    {
      "cell_type": "markdown",
      "metadata": {
        "id": "bFIKGR9jkjWE"
      },
      "source": [
        "Kohli Total runs"
      ]
    },
    {
      "cell_type": "code",
      "metadata": {
        "colab": {
          "base_uri": "https://localhost:8080/"
        },
        "id": "_odemN_ui0pa",
        "outputId": "19066caa-7fce-46a8-ce18-d941fbe62444"
      },
      "source": [
        "sum(k_df[\"Innings Runs Scored Num\"])"
      ],
      "execution_count": null,
      "outputs": [
        {
          "output_type": "execute_result",
          "data": {
            "text/plain": [
              "11247"
            ]
          },
          "metadata": {},
          "execution_count": 197
        }
      ]
    },
    {
      "cell_type": "markdown",
      "metadata": {
        "id": "WUzv1SinlKEF"
      },
      "source": [
        "Sachin Total runs"
      ]
    },
    {
      "cell_type": "code",
      "metadata": {
        "colab": {
          "base_uri": "https://localhost:8080/"
        },
        "id": "rQxhPUZYk0gW",
        "outputId": "535ba1ba-98a9-41b3-e557-d2a2ffd57ebc"
      },
      "source": [
        "sum(s_df[\"Innings Runs Scored Num\"])"
      ],
      "execution_count": null,
      "outputs": [
        {
          "output_type": "execute_result",
          "data": {
            "text/plain": [
              "11818"
            ]
          },
          "metadata": {},
          "execution_count": 198
        }
      ]
    },
    {
      "cell_type": "markdown",
      "metadata": {
        "id": "rjcEcy0FoLc0"
      },
      "source": [
        " Kohli Rate per innings"
      ]
    },
    {
      "cell_type": "code",
      "metadata": {
        "colab": {
          "base_uri": "https://localhost:8080/"
        },
        "id": "fCeefIsUlTzs",
        "outputId": "fdebbec9-2af6-4206-87cf-4230fc64056c"
      },
      "source": [
        "len(k_df)"
      ],
      "execution_count": null,
      "outputs": [
        {
          "output_type": "execute_result",
          "data": {
            "text/plain": [
              "224"
            ]
          },
          "metadata": {},
          "execution_count": 199
        }
      ]
    },
    {
      "cell_type": "code",
      "metadata": {
        "colab": {
          "base_uri": "https://localhost:8080/"
        },
        "id": "ztVgfzYcozho",
        "outputId": "0ac01b33-4b1d-476f-93d2-46dd72e5e7c9"
      },
      "source": [
        "RPI=sum(k_df[\"Innings Runs Scored Num\"])/len(k_df)\n",
        "RPI"
      ],
      "execution_count": null,
      "outputs": [
        {
          "output_type": "execute_result",
          "data": {
            "text/plain": [
              "50.20982142857143"
            ]
          },
          "metadata": {},
          "execution_count": 200
        }
      ]
    },
    {
      "cell_type": "markdown",
      "metadata": {
        "id": "h-ChuM44pUTz"
      },
      "source": [
        "Sachin Rate per inning"
      ]
    },
    {
      "cell_type": "code",
      "metadata": {
        "colab": {
          "base_uri": "https://localhost:8080/"
        },
        "id": "4vxPglNcpkYD",
        "outputId": "02002dd4-cc8a-4a88-b2fd-643f877cee5a"
      },
      "source": [
        "len(s_df)"
      ],
      "execution_count": null,
      "outputs": [
        {
          "output_type": "execute_result",
          "data": {
            "text/plain": [
              "271"
            ]
          },
          "metadata": {},
          "execution_count": 201
        }
      ]
    },
    {
      "cell_type": "code",
      "metadata": {
        "colab": {
          "base_uri": "https://localhost:8080/"
        },
        "id": "OLXppnmGpGad",
        "outputId": "df929ad8-95b3-4106-b5a5-8b7b15c12c23"
      },
      "source": [
        "RPI=sum(s_df[\"Innings Runs Scored Num\"])/len(s_df)\n",
        "RPI"
      ],
      "execution_count": null,
      "outputs": [
        {
          "output_type": "execute_result",
          "data": {
            "text/plain": [
              "43.608856088560884"
            ]
          },
          "metadata": {},
          "execution_count": 202
        }
      ]
    },
    {
      "cell_type": "markdown",
      "metadata": {
        "id": "VvadGBwRqIkh"
      },
      "source": [
        "Kohli Strike Rate"
      ]
    },
    {
      "cell_type": "code",
      "metadata": {
        "colab": {
          "base_uri": "https://localhost:8080/"
        },
        "id": "Z0U4QKAoqWJV",
        "outputId": "6e3ee826-90a3-44bf-dc46-7b0cf7a607fb"
      },
      "source": [
        "total_ball= sum(k_df[\"Innings Balls Faced\"])\n",
        "total_ball"
      ],
      "execution_count": null,
      "outputs": [
        {
          "output_type": "execute_result",
          "data": {
            "text/plain": [
              "12021"
            ]
          },
          "metadata": {},
          "execution_count": 203
        }
      ]
    },
    {
      "cell_type": "code",
      "metadata": {
        "colab": {
          "base_uri": "https://localhost:8080/"
        },
        "id": "9IaqoZJupzWO",
        "outputId": "b3a9ad3a-a68e-4b9a-ea18-a32ce3cfe60c"
      },
      "source": [
        "SR=(sum(k_df[\"Innings Runs Scored Num\"])/total_ball)*100\n",
        "SR"
      ],
      "execution_count": null,
      "outputs": [
        {
          "output_type": "execute_result",
          "data": {
            "text/plain": [
              "93.56126778138258"
            ]
          },
          "metadata": {},
          "execution_count": 204
        }
      ]
    },
    {
      "cell_type": "markdown",
      "metadata": {
        "id": "BnfYSgi4q7vE"
      },
      "source": [
        "Sachin strike rate"
      ]
    },
    {
      "cell_type": "code",
      "metadata": {
        "colab": {
          "base_uri": "https://localhost:8080/"
        },
        "id": "IcswxVgYqzv0",
        "outputId": "f0108abc-a8cb-4e5d-efd1-bf61aeb6cb27"
      },
      "source": [
        "total_ball2=sum(s_df[\"Innings Balls Faced\"])\n",
        "total_ball2"
      ],
      "execution_count": null,
      "outputs": [
        {
          "output_type": "execute_result",
          "data": {
            "text/plain": [
              "13397"
            ]
          },
          "metadata": {},
          "execution_count": 205
        }
      ]
    },
    {
      "cell_type": "code",
      "metadata": {
        "colab": {
          "base_uri": "https://localhost:8080/"
        },
        "id": "WNVKxBhxrh23",
        "outputId": "94b1fa84-37e9-4760-91b8-841b2b3a56e4"
      },
      "source": [
        "SR=(sum(s_df[\"Innings Runs Scored Num\"])/total_ball2)*100\n",
        "SR"
      ],
      "execution_count": null,
      "outputs": [
        {
          "output_type": "execute_result",
          "data": {
            "text/plain": [
              "88.21377920429947"
            ]
          },
          "metadata": {},
          "execution_count": 206
        }
      ]
    },
    {
      "cell_type": "code",
      "metadata": {
        "id": "9hkvtNBirzSX",
        "colab": {
          "base_uri": "https://localhost:8080/",
          "height": 35
        },
        "outputId": "3cc0f48c-3af4-4c6a-9070-87aa4088b979"
      },
      "source": [
        "\"\"\" kohli\n",
        "strike rate- 93.5\n",
        "rate per innings- 50.2\n",
        "total runs- 11247\n",
        "\"\"\"\n",
        "\"\"\"sachin\n",
        "strike rate- 88.2\n",
        "run per innings- 43.6\n",
        "total runs-11818\"\"\""
      ],
      "execution_count": null,
      "outputs": [
        {
          "output_type": "execute_result",
          "data": {
            "application/vnd.google.colaboratory.intrinsic+json": {
              "type": "string"
            },
            "text/plain": [
              "'sachin\\nstrike rate- 88.2\\nrun per innings- 43.6\\ntotal runs-11818'"
            ]
          },
          "metadata": {},
          "execution_count": 207
        }
      ]
    },
    {
      "cell_type": "markdown",
      "metadata": {
        "id": "K-3Fbzoi894A"
      },
      "source": [
        " sachin & kohli hundred"
      ]
    },
    {
      "cell_type": "code",
      "metadata": {
        "colab": {
          "base_uri": "https://localhost:8080/"
        },
        "id": "yaJEyhBf8w7x",
        "outputId": "fa78f23c-59bb-4cf9-82d3-d8fa1623b958"
      },
      "source": [
        "sum(s_df[\"100's\"]),sum(k_df[\"100's\"])"
      ],
      "execution_count": null,
      "outputs": [
        {
          "output_type": "execute_result",
          "data": {
            "text/plain": [
              "(37.0, 42.0)"
            ]
          },
          "metadata": {},
          "execution_count": 208
        }
      ]
    },
    {
      "cell_type": "markdown",
      "metadata": {
        "id": "fJnOENjJ9vYj"
      },
      "source": [
        "sachin & kohli fifty"
      ]
    },
    {
      "cell_type": "code",
      "metadata": {
        "colab": {
          "base_uri": "https://localhost:8080/"
        },
        "id": "BdBXii_E9HyX",
        "outputId": "1a3e2220-e4e5-47c2-e1ad-7d36e6ceb97a"
      },
      "source": [
        "sum(s_df[\"50's\"]),sum(k_df[\"50's\"])"
      ],
      "execution_count": null,
      "outputs": [
        {
          "output_type": "execute_result",
          "data": {
            "text/plain": [
              "(57.0, 53.0)"
            ]
          },
          "metadata": {},
          "execution_count": 209
        }
      ]
    },
    {
      "cell_type": "markdown",
      "metadata": {
        "id": "AerfIAEc93B1"
      },
      "source": [
        "Team **Contribution** "
      ]
    },
    {
      "cell_type": "code",
      "metadata": {
        "id": "55GqTWJO9oW7"
      },
      "source": [
        ""
      ],
      "execution_count": null,
      "outputs": []
    },
    {
      "cell_type": "code",
      "metadata": {
        "colab": {
          "base_uri": "https://localhost:8080/"
        },
        "id": "XX-N7Tzg-i8n",
        "outputId": "05acc8ad-ad3b-4207-ef1a-8716b89e0e15"
      },
      "source": [
        "sum(sachin[sachin['Country']==\"India\"][\"Innings Runs Scored Num\"])"
      ],
      "execution_count": null,
      "outputs": [
        {
          "output_type": "execute_result",
          "data": {
            "text/plain": [
              "69715"
            ]
          },
          "metadata": {},
          "execution_count": 210
        }
      ]
    },
    {
      "cell_type": "code",
      "metadata": {
        "colab": {
          "base_uri": "https://localhost:8080/"
        },
        "id": "r1pLOW36Bbm2",
        "outputId": "a8880711-e142-4c35-bc2a-4d8624948ba1"
      },
      "source": [
        "#sachin contribution\n",
        "s_contr= sum(s_df[\"Innings Runs Scored Num\"])/sum(sachin[sachin['Country']==\"India\"][\"Innings Runs Scored Num\"])*100\n",
        "s_contr\n",
        "#kohli contribution\n",
        "\n",
        "k_contr= sum(k_df[\"Innings Runs Scored Num\"])/sum(kohli[kohli['Country']==\"India\"][\"Innings Runs Scored Num\"])*100\n",
        "k_contr,s_contr"
      ],
      "execution_count": null,
      "outputs": [
        {
          "output_type": "execute_result",
          "data": {
            "text/plain": [
              "(17.610033350556627, 16.951875493078962)"
            ]
          },
          "metadata": {},
          "execution_count": 211
        }
      ]
    },
    {
      "cell_type": "markdown",
      "metadata": {
        "id": "r3kNUudTHwlT"
      },
      "source": [
        "Comparing sachin runs with  other players"
      ]
    },
    {
      "cell_type": "code",
      "metadata": {
        "colab": {
          "base_uri": "https://localhost:8080/"
        },
        "id": "eB6tJttBB4BS",
        "outputId": "0961a51f-bec4-415f-e3c0-2ccd9174d847"
      },
      "source": [
        "sachin.groupby([\"Innings Player\"])[\"Innings Runs Scored Num\"].sum().sort_values(ascending=False).head(10)"
      ],
      "execution_count": null,
      "outputs": [
        {
          "output_type": "execute_result",
          "data": {
            "text/plain": [
              "Innings Player\n",
              "SR Tendulkar      11818\n",
              "SC Ganguly         9911\n",
              "ST Jayasuriya      9297\n",
              "Inzamam-ul-Haq     8561\n",
              "R Dravid           7751\n",
              "RT Ponting         7422\n",
              "Saeed Anwar        7320\n",
              "JH Kallis          7267\n",
              "MS Atapattu        7253\n",
              "MG Bevan           6912\n",
              "Name: Innings Runs Scored Num, dtype: int64"
            ]
          },
          "metadata": {},
          "execution_count": 212
        }
      ]
    },
    {
      "cell_type": "code",
      "metadata": {
        "colab": {
          "base_uri": "https://localhost:8080/",
          "height": 265
        },
        "id": "rybtc757D_qe",
        "outputId": "767b8d58-2592-4ebb-eb6d-7fef53dee2dd"
      },
      "source": [
        "sachin.groupby([\"Innings Player\"])[\"Innings Runs Scored Num\"].sum().sort_values(ascending=False).head(10).plot(kind=\"barh\")\n",
        "plt.show()"
      ],
      "execution_count": null,
      "outputs": [
        {
          "output_type": "display_data",
          "data": {
            "image/png": "[encoded data removed]",
            "text/plain": [
              "<Figure size 432x288 with 1 Axes>"
            ]
          },
          "metadata": {
            "needs_background": "light"
          }
        }
      ]
    },
    {
      "cell_type": "markdown",
      "metadata": {
        "id": "NC9T-VMwH6bK"
      },
      "source": [
        "Comparing kohli runs with other players "
      ]
    },
    {
      "cell_type": "code",
      "metadata": {
        "colab": {
          "base_uri": "https://localhost:8080/"
        },
        "id": "39Y_rQLhF13t",
        "outputId": "3468e98f-7aad-4c4f-afc3-8f08bfd5f536"
      },
      "source": [
        "kohli.groupby([\"Innings Player\"])[\"Innings Runs Scored Num\"].sum().sort_values(ascending=False).head(10)"
      ],
      "execution_count": null,
      "outputs": [
        {
          "output_type": "execute_result",
          "data": {
            "text/plain": [
              "Innings Player\n",
              "V Kohli           11247\n",
              "RG Sharma          8083\n",
              "HM Amla            7745\n",
              "TM Dilshan         7296\n",
              "KC Sangakkara      7275\n",
              "AB de Villiers     7247\n",
              "LRPL Taylor        7059\n",
              "MS Dhoni           6838\n",
              "EJG Morgan         6748\n",
              "MJ Guptill         6626\n",
              "Name: Innings Runs Scored Num, dtype: int64"
            ]
          },
          "metadata": {},
          "execution_count": 214
        }
      ]
    },
    {
      "cell_type": "code",
      "metadata": {
        "colab": {
          "base_uri": "https://localhost:8080/",
          "height": 265
        },
        "id": "3JJ_iPPGGFeM",
        "outputId": "11a5a4e5-693b-4c5d-c311-f0d4e3aa2143"
      },
      "source": [
        "kohli.groupby([\"Innings Player\"])[\"Innings Runs Scored Num\"].sum().sort_values(ascending=False).head(10).plot(kind=\"barh\")\n",
        "plt.show()"
      ],
      "execution_count": null,
      "outputs": [
        {
          "output_type": "display_data",
          "data": {
            "image/png": "[encoded data removed]",
            "text/plain": [
              "<Figure size 432x288 with 1 Axes>"
            ]
          },
          "metadata": {
            "needs_background": "light"
          }
        }
      ]
    },
    {
      "cell_type": "markdown",
      "metadata": {
        "id": "NgG11VjOIGvA"
      },
      "source": [
        "Comparing number of sachin hudred's with other players"
      ]
    },
    {
      "cell_type": "code",
      "metadata": {
        "colab": {
          "base_uri": "https://localhost:8080/"
        },
        "id": "WMUU4BpNGOLr",
        "outputId": "f15a07a7-0c10-42d2-9916-bce2cff64a91"
      },
      "source": [
        "sachin.groupby([\"Innings Player\"])[\"100's\"].sum().sort_values(ascending=False).head(10)"
      ],
      "execution_count": null,
      "outputs": [
        {
          "output_type": "execute_result",
          "data": {
            "text/plain": [
              "Innings Player\n",
              "SR Tendulkar     37.0\n",
              "SC Ganguly       22.0\n",
              "ST Jayasuriya    18.0\n",
              "ME Waugh         16.0\n",
              "RT Ponting       15.0\n",
              "NJ Astle         14.0\n",
              "Saeed Anwar      14.0\n",
              "BC Lara          14.0\n",
              "HH Gibbs         13.0\n",
              "JH Kallis        13.0\n",
              "Name: 100's, dtype: float64"
            ]
          },
          "metadata": {},
          "execution_count": 216
        }
      ]
    },
    {
      "cell_type": "code",
      "metadata": {
        "colab": {
          "base_uri": "https://localhost:8080/",
          "height": 248
        },
        "id": "v5ibeXrtHaAq",
        "outputId": "810c1f08-031a-4a4b-bf2c-8bd53fe49009"
      },
      "source": [
        "sachin.groupby([\"Innings Player\"])[\"100's\"].sum().sort_values(ascending=False).head(5).plot(kind=\"pie\",autopct=\"%.2f\") \n",
        "plt.show()"
      ],
      "execution_count": null,
      "outputs": [
        {
          "output_type": "display_data",
          "data": {
            "image/png": "[encoded data removed]",
            "text/plain": [
              "<Figure size 432x288 with 1 Axes>"
            ]
          },
          "metadata": {}
        }
      ]
    },
    {
      "cell_type": "markdown",
      "metadata": {
        "id": "E7oZ-JfYLXc2"
      },
      "source": [
        "**Comparing kohli hundred's with other players**"
      ]
    },
    {
      "cell_type": "code",
      "metadata": {
        "colab": {
          "base_uri": "https://localhost:8080/"
        },
        "id": "LWk-9O9_HkWM",
        "outputId": "128ef4b2-7c91-423b-a9d1-18134b35ca62"
      },
      "source": [
        "kohli.groupby([\"Innings Player\"])[\"100's\"].sum().sort_values(ascending=False).head(10)"
      ],
      "execution_count": null,
      "outputs": [
        {
          "output_type": "execute_result",
          "data": {
            "text/plain": [
              "Innings Player\n",
              "V Kohli           42.0\n",
              "RG Sharma         27.0\n",
              "HM Amla           26.0\n",
              "AB de Villiers    22.0\n",
              "TM Dilshan        21.0\n",
              "DA Warner         17.0\n",
              "LRPL Taylor       17.0\n",
              "S Dhawan          17.0\n",
              "MJ Guptill        16.0\n",
              "JE Root           16.0\n",
              "Name: 100's, dtype: float64"
            ]
          },
          "metadata": {},
          "execution_count": 218
        }
      ]
    },
    {
      "cell_type": "code",
      "metadata": {
        "colab": {
          "base_uri": "https://localhost:8080/",
          "height": 248
        },
        "id": "5hcDIM9VLpWk",
        "outputId": "b80c938d-576a-4725-9fa9-a9aa7bef6a99"
      },
      "source": [
        "kohli.groupby([\"Innings Player\"])[\"100's\"].sum().sort_values(ascending=False).head(5).plot(kind=\"pie\",autopct=\"%.2f\")\n",
        "plt.show()"
      ],
      "execution_count": null,
      "outputs": [
        {
          "output_type": "display_data",
          "data": {
            "image/png": "[encoded data removed]",
            "text/plain": [
              "<Figure size 432x288 with 1 Axes>"
            ]
          },
          "metadata": {}
        }
      ]
    },
    {
      "cell_type": "markdown",
      "metadata": {
        "id": "Z_MVATChMy7u"
      },
      "source": [
        "**Year wise kohli score from 2009-2019**"
      ]
    },
    {
      "cell_type": "code",
      "metadata": {
        "colab": {
          "base_uri": "https://localhost:8080/"
        },
        "id": "V3waRKlyL5i1",
        "outputId": "e8eb29e1-e4d4-4f1a-94bc-39866e6d9a64"
      },
      "source": [
        "k_df.groupby(['year'])[\"Innings Runs Scored Num\"].sum().sort_values(ascending=False)"
      ],
      "execution_count": null,
      "outputs": [
        {
          "output_type": "execute_result",
          "data": {
            "text/plain": [
              "year\n",
              "2017    1460\n",
              "2011    1381\n",
              "2013    1268\n",
              "2018    1202\n",
              "2019    1174\n",
              "2014    1054\n",
              "2012    1026\n",
              "2010     995\n",
              "2016     739\n",
              "2015     623\n",
              "2009     325\n",
              "Name: Innings Runs Scored Num, dtype: int64"
            ]
          },
          "metadata": {},
          "execution_count": 220
        }
      ]
    },
    {
      "cell_type": "code",
      "metadata": {
        "colab": {
          "base_uri": "https://localhost:8080/",
          "height": 265
        },
        "id": "xjo_v47uNJUP",
        "outputId": "9cc78abe-3acb-468d-8e44-45bebfb97482"
      },
      "source": [
        "k_df.groupby(['year'])[\"Innings Runs Scored Num\"].sum().plot(kind=\"barh\")\n",
        "plt.show()"
      ],
      "execution_count": null,
      "outputs": [
        {
          "output_type": "display_data",
          "data": {
            "image/png": "[encoded data removed]",
            "text/plain": [
              "<Figure size 432x288 with 1 Axes>"
            ]
          },
          "metadata": {
            "needs_background": "light"
          }
        }
      ]
    },
    {
      "cell_type": "markdown",
      "metadata": {
        "id": "S9JmHzx3N0Mb"
      },
      "source": [
        "Year wise  sachin score from 1994-2004"
      ]
    },
    {
      "cell_type": "code",
      "metadata": {
        "colab": {
          "base_uri": "https://localhost:8080/"
        },
        "id": "YQoDX3ZiNZR6",
        "outputId": "a97d1326-1828-4ef4-bc66-4a30c8b9fe61"
      },
      "source": [
        "s_df.groupby([\"year\"])[\"Innings Runs Scored Num\"].sum()"
      ],
      "execution_count": null,
      "outputs": [
        {
          "output_type": "execute_result",
          "data": {
            "text/plain": [
              "year\n",
              "1994    1089\n",
              "1995     444\n",
              "1996    1611\n",
              "1997    1011\n",
              "1998    1894\n",
              "1999     843\n",
              "2000    1328\n",
              "2001     904\n",
              "2002     741\n",
              "2003    1141\n",
              "2004     812\n",
              "Name: Innings Runs Scored Num, dtype: int64"
            ]
          },
          "metadata": {},
          "execution_count": 222
        }
      ]
    },
    {
      "cell_type": "code",
      "metadata": {
        "colab": {
          "base_uri": "https://localhost:8080/",
          "height": 265
        },
        "id": "m81ATBVvOIcc",
        "outputId": "c129b85b-6671-4d9f-aeaa-db706efd3e91"
      },
      "source": [
        "s_df.groupby([\"year\"])[\"Innings Runs Scored Num\"].sum().plot(kind=\"barh\")\n",
        "plt.show()"
      ],
      "execution_count": null,
      "outputs": [
        {
          "output_type": "display_data",
          "data": {
            "image/png": "[encoded data removed]",
            "text/plain": [
              "<Figure size 432x288 with 1 Axes>"
            ]
          },
          "metadata": {
            "needs_background": "light"
          }
        }
      ]
    },
    {
      "cell_type": "markdown",
      "metadata": {
        "id": "2G7q0SnEOWs_"
      },
      "source": [
        "**Normalization**(relative comparision)"
      ]
    },
    {
      "cell_type": "markdown",
      "metadata": {
        "id": "_G3XpqzITivU"
      },
      "source": [
        "Rate per innings in this time period(1994-2004)-sahin"
      ]
    },
    {
      "cell_type": "code",
      "metadata": {
        "id": "4k_JGrofOQJ1"
      },
      "source": [
        "nsachin=sachin[sachin[\"Innings Player\"]!=\"SR Tedulkar\"]# data without sachin"
      ],
      "execution_count": null,
      "outputs": []
    },
    {
      "cell_type": "code",
      "metadata": {
        "id": "fltgrq2fP7YV",
        "colab": {
          "base_uri": "https://localhost:8080/"
        },
        "outputId": "55999764-da3f-44c5-f1ab-bfe32094996e"
      },
      "source": [
        "sum(nsachin[\"Innings Runs Scored Num\"])"
      ],
      "execution_count": null,
      "outputs": [
        {
          "output_type": "execute_result",
          "data": {
            "text/plain": [
              "503955"
            ]
          },
          "metadata": {},
          "execution_count": 225
        }
      ]
    },
    {
      "cell_type": "code",
      "metadata": {
        "colab": {
          "base_uri": "https://localhost:8080/"
        },
        "id": "bm1_AerUSJM5",
        "outputId": "b5d6dfd6-194b-4005-a626-25f1bb5a8f41"
      },
      "source": [
        "RPI_s=sum(nsachin[\"Innings Runs Scored Num\"]) /len(nsachin)\n",
        "strike_rate"
      ],
      "execution_count": null,
      "outputs": [
        {
          "output_type": "execute_result",
          "data": {
            "text/plain": [
              "22.69352006124195"
            ]
          },
          "metadata": {},
          "execution_count": 226
        }
      ]
    },
    {
      "cell_type": "markdown",
      "metadata": {
        "id": "JDgOz_EqUbYS"
      },
      "source": [
        "Strike rate at that time"
      ]
    },
    {
      "cell_type": "code",
      "metadata": {
        "colab": {
          "base_uri": "https://localhost:8080/"
        },
        "id": "nONSb4KPSeZC",
        "outputId": "a2dbbb3c-15b9-4f67-c210-abe2dcdb4f6c"
      },
      "source": [
        "sum(nsachin[\"Innings Balls Faced\"])"
      ],
      "execution_count": null,
      "outputs": [
        {
          "output_type": "execute_result",
          "data": {
            "text/plain": [
              "693726"
            ]
          },
          "metadata": {},
          "execution_count": 227
        }
      ]
    },
    {
      "cell_type": "code",
      "metadata": {
        "colab": {
          "base_uri": "https://localhost:8080/"
        },
        "id": "SVbQRkNUUCAw",
        "outputId": "348d1475-8726-4328-f03a-469ac596630b"
      },
      "source": [
        "#OTHER PLAYERS RATE PER INNINGS SCORE\n",
        "strike_rate_s= sum(nsachin[\"Innings Runs Scored Num\"])/sum(nsachin[\"Innings Balls Faced\"])*100\n",
        "strike_rate_s"
      ],
      "execution_count": null,
      "outputs": [
        {
          "output_type": "execute_result",
          "data": {
            "text/plain": [
              "72.64467527525277"
            ]
          },
          "metadata": {},
          "execution_count": 228
        }
      ]
    },
    {
      "cell_type": "code",
      "metadata": {
        "colab": {
          "base_uri": "https://localhost:8080/"
        },
        "id": "dA9dWlIQUSok",
        "outputId": "c74600e7-89bf-40dd-d44e-cc7e93ef17c2"
      },
      "source": [
        "len(s_df)\n"
      ],
      "execution_count": null,
      "outputs": [
        {
          "output_type": "execute_result",
          "data": {
            "text/plain": [
              "271"
            ]
          },
          "metadata": {},
          "execution_count": 229
        }
      ]
    },
    {
      "cell_type": "code",
      "metadata": {
        "colab": {
          "base_uri": "https://localhost:8080/"
        },
        "id": "UQDfzYj6U-cQ",
        "outputId": "e5fa3da2-40e5-48c5-9715-6e11d8ddec4b"
      },
      "source": [
        "#number of match played to score 100\n",
        "\n",
        "score_hun=len(s_df)/sum(s_df[\"100's\"])\n",
        "score_hun"
      ],
      "execution_count": null,
      "outputs": [
        {
          "output_type": "execute_result",
          "data": {
            "text/plain": [
              "7.324324324324325"
            ]
          },
          "metadata": {},
          "execution_count": 234
        }
      ]
    },
    {
      "cell_type": "markdown",
      "metadata": {
        "id": "WiD34Z6nWU2Y"
      },
      "source": [
        "Rate per inning score in this period of time(2009-2019)-kohli "
      ]
    },
    {
      "cell_type": "code",
      "metadata": {
        "id": "_4wk8SNaV652"
      },
      "source": [
        "nkohli=kohli[kohli[\"Innings Player\"]!=\"V Kohli\"]#data without kohli"
      ],
      "execution_count": null,
      "outputs": []
    },
    {
      "cell_type": "code",
      "metadata": {
        "colab": {
          "base_uri": "https://localhost:8080/"
        },
        "id": "0yio91HGWyPU",
        "outputId": "e1510f51-bbda-481f-9539-cb4f143ec01e"
      },
      "source": [
        "#OTHER PLAYERS RATE PER INNINGS SCORE\n",
        "RPI_K=sum(nkohli[\"Innings Runs Scored Num\"])/len(nkohli)\n",
        "RPI_k"
      ],
      "execution_count": null,
      "outputs": [
        {
          "output_type": "execute_result",
          "data": {
            "text/plain": [
              "24.737756786500366"
            ]
          },
          "metadata": {},
          "execution_count": 232
        }
      ]
    },
    {
      "cell_type": "code",
      "metadata": {
        "colab": {
          "base_uri": "https://localhost:8080/"
        },
        "id": "mHVLdBVSXHIE",
        "outputId": "14c1eb63-92a2-4073-b679-99d4d7249f8e"
      },
      "source": [
        "strike_rate_k=sum(nkohli[\"Innings Runs Scored Num\"])/sum(nkohli[\"Innings Balls Faced\"])*100\n",
        "strike_rate_k"
      ],
      "execution_count": null,
      "outputs": [
        {
          "output_type": "execute_result",
          "data": {
            "text/plain": [
              "83.42743413330611"
            ]
          },
          "metadata": {},
          "execution_count": 233
        }
      ]
    },
    {
      "cell_type": "code",
      "metadata": {
        "colab": {
          "base_uri": "https://localhost:8080/"
        },
        "id": "kkReR1IuXbTH",
        "outputId": "07a39431-fd5c-4722-80c3-fcf54fe6e41a"
      },
      "source": [
        "#number of match palyed to score a hunderd\n",
        "\n",
        "score_hund= len(k_df)/sum(k_df[\"100's\"])\n",
        "score_hund"
      ],
      "execution_count": null,
      "outputs": [
        {
          "output_type": "execute_result",
          "data": {
            "text/plain": [
              "5.333333333333333"
            ]
          },
          "metadata": {},
          "execution_count": 171
        }
      ]
    },
    {
      "cell_type": "markdown",
      "metadata": {
        "id": "WrkFKghaabSh"
      },
      "source": [
        "#conclusion"
      ]
    },
    {
      "cell_type": "markdown",
      "metadata": {
        "id": "YrnI0Cq0Retw"
      },
      "source": [
        "  #           Sachin\n",
        "\n",
        "1.   Total runs== 11818\n",
        "2.   RPI== 43.6\n",
        "3.   Strike rate== 88.21\n",
        "4.   100's=== 37\n",
        "5.   50's== 57\n",
        "6.   Team contribution== 16.9%\n",
        "\n",
        "\n",
        "\n",
        "\n",
        "#.           Kohli\n",
        "\n",
        "1.   Total runs== 11247\n",
        "2.   RPI== 50.2\n",
        "3.   Strike rate== 93.5\n",
        "4.   100's=== 42\n",
        "5.   50's== 53\n",
        "6.   Team contribution== 17.6%\n",
        "\n",
        "  \n",
        "\n",
        "\n",
        "\n",
        "\n",
        "\n",
        "\n",
        "\n",
        "\n",
        "\n",
        "\n",
        "\n",
        "\n"
      ]
    },
    {
      "cell_type": "code",
      "metadata": {
        "id": "L6e3cu42Rl12"
      },
      "source": [
        ""
      ],
      "execution_count": null,
      "outputs": []
    }
  ]
}